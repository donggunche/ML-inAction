{
 "cells": [
  {
   "cell_type": "code",
   "execution_count": 1,
   "metadata": {},
   "outputs": [],
   "source": [
    "from numpy import *"
   ]
  },
  {
   "cell_type": "code",
   "execution_count": 2,
   "metadata": {},
   "outputs": [],
   "source": [
    "U,Sigma,VT=linalg.svd([[1,1],[7,7]])"
   ]
  },
  {
   "cell_type": "code",
   "execution_count": 3,
   "metadata": {},
   "outputs": [
    {
     "data": {
      "text/plain": [
       "array([[-0.14142136, -0.98994949],\n",
       "       [-0.98994949,  0.14142136]])"
      ]
     },
     "execution_count": 3,
     "metadata": {},
     "output_type": "execute_result"
    }
   ],
   "source": [
    "U"
   ]
  },
  {
   "cell_type": "code",
   "execution_count": 4,
   "metadata": {},
   "outputs": [
    {
     "data": {
      "text/plain": [
       "array([10.,  0.])"
      ]
     },
     "execution_count": 4,
     "metadata": {},
     "output_type": "execute_result"
    }
   ],
   "source": [
    "Sigma"
   ]
  },
  {
   "cell_type": "code",
   "execution_count": 5,
   "metadata": {},
   "outputs": [
    {
     "data": {
      "text/plain": [
       "array([[-0.70710678, -0.70710678],\n",
       "       [-0.70710678,  0.70710678]])"
      ]
     },
     "execution_count": 5,
     "metadata": {},
     "output_type": "execute_result"
    }
   ],
   "source": [
    "VT"
   ]
  },
  {
   "cell_type": "code",
   "execution_count": 6,
   "metadata": {},
   "outputs": [],
   "source": [
    "def loadExData():\n",
    "    return[[1, 1, 1, 0, 0],\n",
    "            [2, 2, 2, 0, 0],\n",
    "            [1, 1, 1, 0, 0],\n",
    "            [5, 5, 5, 0, 0],\n",
    "            [1, 1, 0, 2, 2],\n",
    "            [0, 0, 0, 3, 3],\n",
    "            [0, 0, 0, 1, 1]]"
   ]
  },
  {
   "cell_type": "code",
   "execution_count": 7,
   "metadata": {},
   "outputs": [],
   "source": [
    "data=loadExData()"
   ]
  },
  {
   "cell_type": "code",
   "execution_count": 8,
   "metadata": {},
   "outputs": [],
   "source": [
    "U,Sigma,VT=linalg.svd(data)"
   ]
  },
  {
   "cell_type": "code",
   "execution_count": 9,
   "metadata": {},
   "outputs": [
    {
     "data": {
      "text/plain": [
       "array([9.72140007e+00, 5.29397912e+00, 6.84226362e-01, 4.96619610e-16,\n",
       "       1.57294073e-16])"
      ]
     },
     "execution_count": 9,
     "metadata": {},
     "output_type": "execute_result"
    }
   ],
   "source": [
    "Sigma"
   ]
  },
  {
   "cell_type": "code",
   "execution_count": 10,
   "metadata": {},
   "outputs": [],
   "source": [
    "from numpy import linalg as la"
   ]
  },
  {
   "cell_type": "code",
   "execution_count": 11,
   "metadata": {},
   "outputs": [],
   "source": [
    "def ecludSim(inA, inB):\n",
    "    return 1.0/(1.0 + la.norm(inA - inB))\n",
    "\n",
    "\n",
    "# pearsSim()函数会检查是否存在3个或更多的点。\n",
    "# corrcoef直接计算皮尔逊相关系数，范围[-1, 1]，归一化后[0, 1]\n",
    "def pearsSim(inA, inB):\n",
    "    # 如果不存在，该函数返回1.0，此时两个向量完全相关。\n",
    "    if len(inA) < 3:\n",
    "        return 1.0\n",
    "    return 0.5 + 0.5 * corrcoef(inA, inB, rowvar=0)[0][1]\n",
    "\n",
    "\n",
    "# 计算余弦相似度，如果夹角为90度，相似度为0；如果两个向量的方向相同，相似度为1.0\n",
    "def cosSim(inA, inB):\n",
    "    num = float(inA.T*inB)\n",
    "    denom = la.norm(inA)*la.norm(inB)\n",
    "    return 0.5 + 0.5*(num/denom)"
   ]
  },
  {
   "cell_type": "code",
   "execution_count": 12,
   "metadata": {},
   "outputs": [],
   "source": [
    "myMat=mat(loadExData())"
   ]
  },
  {
   "cell_type": "code",
   "execution_count": 13,
   "metadata": {},
   "outputs": [
    {
     "data": {
      "text/plain": [
       "matrix([[1, 1, 1, 0, 0],\n",
       "        [2, 2, 2, 0, 0],\n",
       "        [1, 1, 1, 0, 0],\n",
       "        [5, 5, 5, 0, 0],\n",
       "        [1, 1, 0, 2, 2],\n",
       "        [0, 0, 0, 3, 3],\n",
       "        [0, 0, 0, 1, 1]])"
      ]
     },
     "execution_count": 13,
     "metadata": {},
     "output_type": "execute_result"
    }
   ],
   "source": [
    "myMat"
   ]
  },
  {
   "cell_type": "code",
   "execution_count": 14,
   "metadata": {},
   "outputs": [
    {
     "data": {
      "text/plain": [
       "0.13367660240019172"
      ]
     },
     "execution_count": 14,
     "metadata": {},
     "output_type": "execute_result"
    }
   ],
   "source": [
    "ecludSim(myMat[:,0],myMat[:,4])"
   ]
  },
  {
   "cell_type": "code",
   "execution_count": 15,
   "metadata": {},
   "outputs": [
    {
     "data": {
      "text/plain": [
       "1.0"
      ]
     },
     "execution_count": 15,
     "metadata": {},
     "output_type": "execute_result"
    }
   ],
   "source": [
    "ecludSim(myMat[:,0],myMat[:,0])"
   ]
  },
  {
   "cell_type": "code",
   "execution_count": 16,
   "metadata": {},
   "outputs": [
    {
     "data": {
      "text/plain": [
       "0.9999999999999999"
      ]
     },
     "execution_count": 16,
     "metadata": {},
     "output_type": "execute_result"
    }
   ],
   "source": [
    "cosSim(myMat[:,0],myMat[:,0])"
   ]
  },
  {
   "cell_type": "code",
   "execution_count": 17,
   "metadata": {},
   "outputs": [
    {
     "data": {
      "text/plain": [
       "0.5472455591261534"
      ]
     },
     "execution_count": 17,
     "metadata": {},
     "output_type": "execute_result"
    }
   ],
   "source": [
    "cosSim(myMat[:,0],myMat[:,4])"
   ]
  },
  {
   "cell_type": "code",
   "execution_count": 18,
   "metadata": {},
   "outputs": [
    {
     "data": {
      "text/plain": [
       "0.23768619407595826"
      ]
     },
     "execution_count": 18,
     "metadata": {},
     "output_type": "execute_result"
    }
   ],
   "source": [
    "pearsSim(myMat[:,0],myMat[:,4])"
   ]
  },
  {
   "cell_type": "code",
   "execution_count": 19,
   "metadata": {},
   "outputs": [
    {
     "data": {
      "text/plain": [
       "1.0"
      ]
     },
     "execution_count": 19,
     "metadata": {},
     "output_type": "execute_result"
    }
   ],
   "source": [
    "pearsSim(myMat[:,0],myMat[:,0])"
   ]
  },
  {
   "cell_type": "code",
   "execution_count": 20,
   "metadata": {},
   "outputs": [],
   "source": [
    "def standEst(dataMat, user, simMeas, item):\n",
    "    \"\"\"standEst(计算某用户未评分物品中，以对该物品和其他物品评分的用户的物品相似度，然后进行综合评分)\n",
    "    Args:\n",
    "        dataMat         训练数据集\n",
    "        user            用户编号\n",
    "        simMeas         相似度计算方法\n",
    "        item            未评分的物品编号\n",
    "    Returns:\n",
    "        ratSimTotal/simTotal     评分（0～5之间的值）\n",
    "    \"\"\"\n",
    "    # 得到数据集中的物品数目\n",
    "    n = shape(dataMat)[1]\n",
    "    # 初始化两个评分值\n",
    "    simTotal = 0.0\n",
    "    ratSimTotal = 0.0\n",
    "    # 遍历行中的每个物品（对用户评过分的物品进行遍历，并将它与其他物品进行比较）\n",
    "    for j in range(n):\n",
    "        userRating = dataMat[user, j]\n",
    "        # 如果某个物品的评分值为0，则跳过这个物品\n",
    "        if userRating == 0:\n",
    "            continue\n",
    "        # 寻找两个用户都评级的物品\n",
    "        # 变量 overLap 给出的是两个物品当中已经被评分的那个元素的索引ID\n",
    "        # logical_and 计算x1和x2元素的真值。\n",
    "        overLap = nonzero(logical_and(dataMat[:, item].A > 0, dataMat[:, j].A > 0))[0]\n",
    "        # 如果相似度为0，则两着没有任何重合元素，终止本次循环\n",
    "        if len(overLap) == 0:\n",
    "            similarity = 0\n",
    "        # 如果存在重合的物品，则基于这些重合物重新计算相似度。\n",
    "        else:\n",
    "            similarity = simMeas(dataMat[overLap, item], dataMat[overLap, j])\n",
    "        # print('the %d and %d similarity is : %f'(iten,j,similarity))\n",
    "        # 相似度会不断累加，每次计算时还考虑相似度和当前用户评分的乘积\n",
    "        # similarity  用户相似度，   userRating 用户评分\n",
    "        simTotal += similarity\n",
    "        ratSimTotal += similarity * userRating\n",
    "    if simTotal == 0:\n",
    "        return 0\n",
    "    # 通过除以所有的评分总和，对上述相似度评分的乘积进行归一化，使得最后评分在0~5之间，这些评分用来对预测值进行排序\n",
    "    else:\n",
    "        return ratSimTotal/simTotal"
   ]
  },
  {
   "cell_type": "code",
   "execution_count": 21,
   "metadata": {},
   "outputs": [],
   "source": [
    "def recommend(dataMat, user, N=3, simMeas=cosSim, estMethod=standEst):\n",
    "    \"\"\"svdEst( )\n",
    "    Args:\n",
    "        dataMat         训练数据集\n",
    "        user            用户编号\n",
    "        simMeas         相似度计算方法\n",
    "        estMethod       使用的推荐算法\n",
    "    Returns:\n",
    "        返回最终 N 个推荐结果\n",
    "    \"\"\"\n",
    "    # 寻找未评级的物品\n",
    "    # 对给定的用户建立一个未评分的物品列表\n",
    "    unratedItems = nonzero(dataMat[user, :].A == 0)[1]\n",
    "    # 如果不存在未评分物品，那么就退出函数\n",
    "    if len(unratedItems) == 0:\n",
    "        return 'you rated everything'\n",
    "    # 物品的编号和评分值\n",
    "    itemScores = []\n",
    "    # 在未评分物品上进行循环\n",
    "    for item in unratedItems:\n",
    "        # 获取 item 该物品的评分\n",
    "        estimatedScore = estMethod(dataMat, user, simMeas, item)\n",
    "        itemScores.append((item, estimatedScore))\n",
    "    # 按照评分得分 进行逆排序，获取前N个未评级物品进行推荐\n",
    "    return sorted(itemScores, key=lambda jj: jj[1], reverse=True)[: N]"
   ]
  },
  {
   "cell_type": "code",
   "execution_count": 22,
   "metadata": {},
   "outputs": [],
   "source": [
    "myMat[0,1]=myMat[0,0]=myMat[1,0]=myMat[2,0]=4"
   ]
  },
  {
   "cell_type": "code",
   "execution_count": 28,
   "metadata": {},
   "outputs": [
    {
     "data": {
      "text/plain": [
       "matrix([[4, 4, 1, 0, 0],\n",
       "        [4, 2, 2, 0, 0],\n",
       "        [4, 1, 1, 0, 0],\n",
       "        [5, 5, 5, 0, 0],\n",
       "        [1, 1, 0, 2, 2],\n",
       "        [0, 0, 0, 3, 3],\n",
       "        [0, 0, 0, 1, 1]])"
      ]
     },
     "execution_count": 28,
     "metadata": {},
     "output_type": "execute_result"
    }
   ],
   "source": [
    "myMat"
   ]
  },
  {
   "cell_type": "code",
   "execution_count": 25,
   "metadata": {},
   "outputs": [
    {
     "data": {
      "text/plain": [
       "[(3, 2.5), (4, 2.5)]"
      ]
     },
     "execution_count": 25,
     "metadata": {},
     "output_type": "execute_result"
    }
   ],
   "source": [
    "recommend(myMat,2)"
   ]
  },
  {
   "cell_type": "code",
   "execution_count": 38,
   "metadata": {},
   "outputs": [
    {
     "data": {
      "text/plain": [
       "[(3, 2.5), (4, 2.5)]"
      ]
     },
     "execution_count": 38,
     "metadata": {},
     "output_type": "execute_result"
    }
   ],
   "source": [
    "recommend(myMat,2,estMethod=standEst)"
   ]
  },
  {
   "cell_type": "code",
   "execution_count": 29,
   "metadata": {},
   "outputs": [],
   "source": [
    "def loadExData3():\n",
    "    # 利用SVD提高推荐效果，菜肴矩阵\n",
    "    return[[2, 0, 0, 4, 4, 0, 0, 0, 0, 0, 0],\n",
    "           [0, 0, 0, 0, 0, 0, 0, 0, 0, 0, 5],\n",
    "           [0, 0, 0, 0, 0, 0, 0, 1, 0, 4, 0],\n",
    "           [3, 3, 4, 0, 3, 0, 0, 2, 2, 0, 0],\n",
    "           [5, 5, 5, 0, 0, 0, 0, 0, 0, 0, 0],\n",
    "           [0, 0, 0, 0, 0, 0, 5, 0, 0, 5, 0],\n",
    "           [4, 0, 4, 0, 0, 0, 0, 0, 0, 0, 5],\n",
    "           [0, 0, 0, 0, 0, 4, 0, 0, 0, 0, 4],\n",
    "           [0, 0, 0, 0, 0, 0, 5, 0, 0, 5, 0],\n",
    "           [0, 0, 0, 3, 0, 0, 0, 0, 4, 5, 0],\n",
    "           [1, 1, 2, 1, 1, 2, 1, 0, 4, 5, 0]]"
   ]
  },
  {
   "cell_type": "code",
   "execution_count": 31,
   "metadata": {},
   "outputs": [],
   "source": [
    "  U, Sigma, VT = la.svd(mat(loadExData3()))"
   ]
  },
  {
   "cell_type": "code",
   "execution_count": 32,
   "metadata": {},
   "outputs": [
    {
     "data": {
      "text/plain": [
       "array([1.34342819e+01, 1.18190832e+01, 8.20176076e+00, 6.86912480e+00,\n",
       "       5.29063022e+00, 3.91213561e+00, 2.94562509e+00, 2.35486137e+00,\n",
       "       2.08702082e+00, 7.08715931e-01, 2.57608579e-16])"
      ]
     },
     "execution_count": 32,
     "metadata": {},
     "output_type": "execute_result"
    }
   ],
   "source": [
    "Sigma"
   ]
  },
  {
   "cell_type": "code",
   "execution_count": 33,
   "metadata": {},
   "outputs": [],
   "source": [
    "def svdEst(dataMat, user, simMeas, item):\n",
    "    \"\"\"svdEst( )\n",
    "    Args:\n",
    "        dataMat         训练数据集\n",
    "        user            用户编号\n",
    "        simMeas         相似度计算方法\n",
    "        item            未评分的物品编号\n",
    "    Returns:\n",
    "        ratSimTotal/simTotal     评分（0～5之间的值）\n",
    "    \"\"\"\n",
    "    # 物品数目\n",
    "    n = shape(dataMat)[1]\n",
    "    # 对数据集进行SVD分解\n",
    "    simTotal = 0.0\n",
    "    ratSimTotal = 0.0\n",
    "    # 奇异值分解\n",
    "    # 在SVD分解之后，我们只利用包含了90%能量值的奇异值，这些奇异值会以NumPy数组的形式得以保存\n",
    "    U, Sigma, VT = la.svd(dataMat)\n",
    "\n",
    "    # # 分析 Sigma 的长度取值\n",
    "    # analyse_data(Sigma, 20)\n",
    "\n",
    "    # 如果要进行矩阵运算，就必须要用这些奇异值构建出一个对角矩阵\n",
    "    Sig4 = mat(eye(4) * Sigma[: 4])\n",
    "\n",
    "    # 利用U矩阵将物品转换到低维空间中，构建转换后的物品(物品+4个主要的特征)\n",
    "    xformedItems = dataMat.T * U[:, :4] * Sig4.I\n",
    "    print('dataMat', shape(dataMat))\n",
    "    print('U[:, :4]', shape(U[:, :4]))\n",
    "    print('Sig4.I', shape(Sig4.I))\n",
    "    print('VT[:4, :]', shape(VT[:4, :]))\n",
    "    print('xformedItems', shape(xformedItems))\n",
    "\n",
    "    # 对于给定的用户，for循环在用户对应行的元素上进行遍历\n",
    "    # 这和standEst()函数中的for循环的目的一样，只不过这里的相似度计算时在低维空间下进行的。\n",
    "    for j in range(n):\n",
    "        userRating = dataMat[user, j]\n",
    "        if userRating == 0 or j == item:\n",
    "            continue\n",
    "        # 相似度的计算方法也会作为一个参数传递给该函数\n",
    "        similarity = simMeas(xformedItems[item, :].T, xformedItems[j, :].T)\n",
    "        # for 循环中加入了一条print语句，以便了解相似度计算的进展情况。如果觉得累赘，可以去掉\n",
    "        print('the %d and %d similarity is: %f' % (item, j, similarity))\n",
    "        # 对相似度不断累加求和\n",
    "        simTotal += similarity\n",
    "        # 对相似度及对应评分值的乘积求和\n",
    "        ratSimTotal += similarity * userRating\n",
    "    if simTotal == 0:\n",
    "        return 0\n",
    "    else:\n",
    "        # 计算估计评分\n",
    "        return ratSimTotal/simTotal"
   ]
  },
  {
   "cell_type": "code",
   "execution_count": 39,
   "metadata": {},
   "outputs": [
    {
     "name": "stdout",
     "output_type": "stream",
     "text": [
      "dataMat (11, 11)\n",
      "U[:, :4] (11, 4)\n",
      "Sig4.I (4, 4)\n",
      "VT[:4, :] (4, 11)\n",
      "xformedItems (11, 4)\n",
      "the 0 and 10 similarity is: 0.576545\n",
      "dataMat (11, 11)\n",
      "U[:, :4] (11, 4)\n",
      "Sig4.I (4, 4)\n",
      "VT[:4, :] (4, 11)\n",
      "xformedItems (11, 4)\n",
      "the 1 and 10 similarity is: 0.346327\n",
      "dataMat (11, 11)\n",
      "U[:, :4] (11, 4)\n",
      "Sig4.I (4, 4)\n",
      "VT[:4, :] (4, 11)\n",
      "xformedItems (11, 4)\n",
      "the 2 and 10 similarity is: 0.565529\n",
      "dataMat (11, 11)\n",
      "U[:, :4] (11, 4)\n",
      "Sig4.I (4, 4)\n",
      "VT[:4, :] (4, 11)\n",
      "xformedItems (11, 4)\n",
      "the 3 and 10 similarity is: 0.484314\n",
      "dataMat (11, 11)\n",
      "U[:, :4] (11, 4)\n",
      "Sig4.I (4, 4)\n",
      "VT[:4, :] (4, 11)\n",
      "xformedItems (11, 4)\n",
      "the 4 and 10 similarity is: 0.415442\n",
      "dataMat (11, 11)\n",
      "U[:, :4] (11, 4)\n",
      "Sig4.I (4, 4)\n",
      "VT[:4, :] (4, 11)\n",
      "xformedItems (11, 4)\n",
      "the 5 and 10 similarity is: 0.929326\n",
      "dataMat (11, 11)\n",
      "U[:, :4] (11, 4)\n",
      "Sig4.I (4, 4)\n",
      "VT[:4, :] (4, 11)\n",
      "xformedItems (11, 4)\n",
      "the 6 and 10 similarity is: 0.490999\n",
      "dataMat (11, 11)\n",
      "U[:, :4] (11, 4)\n",
      "Sig4.I (4, 4)\n",
      "VT[:4, :] (4, 11)\n",
      "xformedItems (11, 4)\n",
      "the 7 and 10 similarity is: 0.322192\n",
      "dataMat (11, 11)\n",
      "U[:, :4] (11, 4)\n",
      "Sig4.I (4, 4)\n",
      "VT[:4, :] (4, 11)\n",
      "xformedItems (11, 4)\n",
      "the 8 and 10 similarity is: 0.474054\n",
      "dataMat (11, 11)\n",
      "U[:, :4] (11, 4)\n",
      "Sig4.I (4, 4)\n",
      "VT[:4, :] (4, 11)\n",
      "xformedItems (11, 4)\n",
      "the 9 and 10 similarity is: 0.496642\n"
     ]
    },
    {
     "data": {
      "text/plain": [
       "[(0, 5.0), (1, 5.0), (2, 5.0)]"
      ]
     },
     "execution_count": 39,
     "metadata": {},
     "output_type": "execute_result"
    }
   ],
   "source": [
    "recommend(mat(loadExData3()),1,estMethod=svdEst)"
   ]
  },
  {
   "cell_type": "code",
   "execution_count": 40,
   "metadata": {},
   "outputs": [
    {
     "name": "stdout",
     "output_type": "stream",
     "text": [
      "dataMat (11, 11)\n",
      "U[:, :4] (11, 4)\n",
      "Sig4.I (4, 4)\n",
      "VT[:4, :] (4, 11)\n",
      "xformedItems (11, 4)\n",
      "the 0 and 10 similarity is: 0.561692\n",
      "dataMat (11, 11)\n",
      "U[:, :4] (11, 4)\n",
      "Sig4.I (4, 4)\n",
      "VT[:4, :] (4, 11)\n",
      "xformedItems (11, 4)\n",
      "the 1 and 10 similarity is: 0.332894\n",
      "dataMat (11, 11)\n",
      "U[:, :4] (11, 4)\n",
      "Sig4.I (4, 4)\n",
      "VT[:4, :] (4, 11)\n",
      "xformedItems (11, 4)\n",
      "the 2 and 10 similarity is: 0.540230\n",
      "dataMat (11, 11)\n",
      "U[:, :4] (11, 4)\n",
      "Sig4.I (4, 4)\n",
      "VT[:4, :] (4, 11)\n",
      "xformedItems (11, 4)\n",
      "the 3 and 10 similarity is: 0.761304\n",
      "dataMat (11, 11)\n",
      "U[:, :4] (11, 4)\n",
      "Sig4.I (4, 4)\n",
      "VT[:4, :] (4, 11)\n",
      "xformedItems (11, 4)\n",
      "the 4 and 10 similarity is: 0.593765\n",
      "dataMat (11, 11)\n",
      "U[:, :4] (11, 4)\n",
      "Sig4.I (4, 4)\n",
      "VT[:4, :] (4, 11)\n",
      "xformedItems (11, 4)\n",
      "the 5 and 10 similarity is: 0.989046\n",
      "dataMat (11, 11)\n",
      "U[:, :4] (11, 4)\n",
      "Sig4.I (4, 4)\n",
      "VT[:4, :] (4, 11)\n",
      "xformedItems (11, 4)\n",
      "the 6 and 10 similarity is: 0.487722\n",
      "dataMat (11, 11)\n",
      "U[:, :4] (11, 4)\n",
      "Sig4.I (4, 4)\n",
      "VT[:4, :] (4, 11)\n",
      "xformedItems (11, 4)\n",
      "the 7 and 10 similarity is: 0.406973\n",
      "dataMat (11, 11)\n",
      "U[:, :4] (11, 4)\n",
      "Sig4.I (4, 4)\n",
      "VT[:4, :] (4, 11)\n",
      "xformedItems (11, 4)\n",
      "the 8 and 10 similarity is: 0.856908\n",
      "dataMat (11, 11)\n",
      "U[:, :4] (11, 4)\n",
      "Sig4.I (4, 4)\n",
      "VT[:4, :] (4, 11)\n",
      "xformedItems (11, 4)\n",
      "the 9 and 10 similarity is: 0.722518\n"
     ]
    },
    {
     "data": {
      "text/plain": [
       "[(0, 5.0), (1, 5.0), (2, 5.0)]"
      ]
     },
     "execution_count": 40,
     "metadata": {},
     "output_type": "execute_result"
    }
   ],
   "source": [
    "recommend(mat(loadExData3()),1,estMethod=svdEst,simMeas=pearsSim)"
   ]
  },
  {
   "cell_type": "code",
   "execution_count": 53,
   "metadata": {},
   "outputs": [],
   "source": [
    "def imgLoadData(filename):\n",
    "    myl = []\n",
    "    # 打开文本文件，并从文件以数组方式读入字符\n",
    "    for line in open(filename).readlines():\n",
    "        newRow = []\n",
    "        for i in range(32):\n",
    "            newRow.append(int(line[i]))\n",
    "        myl.append(newRow)\n",
    "    # 矩阵调入后，就可以在屏幕上输出该矩阵\n",
    "    myMat = mat(myl)\n",
    "    return myMat\n",
    "\n",
    "\n",
    "\n",
    "\n",
    "# 实现图像压缩，允许基于任意给定的奇异值数目来重构图像\n",
    "def imgCompress(numSV=3, thresh=0.8):\n",
    "    \"\"\"imgCompress( )\n",
    "    Args:\n",
    "        numSV       Sigma长度   \n",
    "        thresh      判断的阈值\n",
    "    \"\"\"\n",
    "    # 构建一个列表\n",
    "    myMat = imgLoadData('data/0_5.txt')\n",
    "\n",
    "    print(\"****original matrix****\")\n",
    "    # 对原始图像进行SVD分解并重构图像e\n",
    "    printMat(myMat, thresh)\n",
    "\n",
    "    # 通过Sigma 重新构成SigRecom来实现\n",
    "    # Sigma是一个对角矩阵，因此需要建立一个全0矩阵，然后将前面的那些奇异值填充到对角线上。\n",
    "    U, Sigma, VT = la.svd(myMat)\n",
    "    # SigRecon = mat(zeros((numSV, numSV)))\n",
    "    # for k in range(numSV):\n",
    "    #     SigRecon[k, k] = Sigma[k]\n",
    "\n",
    "    # 分析插入的 Sigma 长度\n",
    "   # analyse_data(Sigma, 20)\n",
    "\n",
    "    SigRecon = mat(eye(numSV) * Sigma[: numSV])\n",
    "    reconMat = U[:, :numSV] * SigRecon * VT[:numSV, :]\n",
    "    print(\"****reconstructed matrix using %d singular values *****\" % numSV)\n",
    "    printMat(reconMat, thresh)\n"
   ]
  },
  {
   "cell_type": "code",
   "execution_count": 42,
   "metadata": {},
   "outputs": [],
   "source": [
    "def analyse_data(Sigma, loopNum=20):\n",
    "    \"\"\"analyse_data(分析 Sigma 的长度取值)\n",
    "    Args:\n",
    "        Sigma         Sigma的值\n",
    "        loopNum       循环次数\n",
    "    \"\"\"\n",
    "    # 总方差的集合（总能量值）\n",
    "    Sig2 = Sigma**2\n",
    "    SigmaSum = sum(Sig2)\n",
    "    for i in range(loopNum):\n",
    "        SigmaI = sum(Sig2[:i+1])\n",
    "        '''\n",
    "        根据自己的业务情况，就行处理，设置对应的 Singma 次数\n",
    "        通常保留矩阵 80% ～ 90% 的能量，就可以得到重要的特征并取出噪声。\n",
    "        '''\n",
    "        print('主成分：%s, 方差占比：%s%%' % (format(i+1, '2.0f'), format(SigmaI/SigmaSum*100, '4.2f')))"
   ]
  },
  {
   "cell_type": "code",
   "execution_count": 56,
   "metadata": {},
   "outputs": [],
   "source": [
    "def printMat(inMat, thresh=0.8):\n",
    "    # 由于矩阵保护了浮点数，因此定义浅色和深色，遍历所有矩阵元素，当元素大于阀值时打印1，否则打印0\n",
    "    for i in range(32):\n",
    "        for k in range(32):\n",
    "            if float(inMat[i, k]) > thresh:\n",
    "                inMat[i, k]=1\n",
    "            else:\n",
    "                inMat[i, k]=0\n",
    "        print(inMat)"
   ]
  },
  {
   "cell_type": "code",
   "execution_count": 51,
   "metadata": {},
   "outputs": [],
   "source": [
    " myMat = imgLoadData('data/0_5.txt')"
   ]
  },
  {
   "cell_type": "code",
   "execution_count": null,
   "metadata": {},
   "outputs": [],
   "source": []
  }
 ],
 "metadata": {
  "kernelspec": {
   "display_name": "Python 3",
   "language": "python",
   "name": "python3"
  },
  "language_info": {
   "codemirror_mode": {
    "name": "ipython",
    "version": 3
   },
   "file_extension": ".py",
   "mimetype": "text/x-python",
   "name": "python",
   "nbconvert_exporter": "python",
   "pygments_lexer": "ipython3",
   "version": "3.7.6"
  }
 },
 "nbformat": 4,
 "nbformat_minor": 4
}
