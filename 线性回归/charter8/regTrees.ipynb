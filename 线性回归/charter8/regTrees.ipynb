{
 "cells": [
  {
   "cell_type": "code",
   "execution_count": 1,
   "metadata": {},
   "outputs": [],
   "source": [
    "from numpy import *"
   ]
  },
  {
   "cell_type": "code",
   "execution_count": 2,
   "metadata": {},
   "outputs": [],
   "source": [
    "def loadDataSet(fileName):\n",
    "    \"\"\"loadDataSet(解析每一行，并转化为float类型)\n",
    "        Desc：该函数读取一个以 tab 键为分隔符的文件，然后将每行的内容保存成一组浮点数\n",
    "    Args:\n",
    "        fileName 文件名\n",
    "    Returns:\n",
    "        dataMat 每一行的数据集array类型\n",
    "    Raises:\n",
    "    \"\"\"\n",
    "    # 假定最后一列是结果值\n",
    "    # assume last column is target value\n",
    "    dataMat = []\n",
    "    fr = open(fileName)\n",
    "    for line in fr.readlines():\n",
    "        curLine = line.strip().split('\\t')\n",
    "        #将每行转换成浮点数\n",
    "        fltLine = [float(x) for x in curLine]\n",
    "        dataMat.append(fltLine)\n",
    "    return dataMat"
   ]
  },
  {
   "cell_type": "code",
   "execution_count": 3,
   "metadata": {},
   "outputs": [],
   "source": [
    "def binSplitDataSet(dataSet, feature, value):\n",
    "    \"\"\"binSplitDataSet(将数据集，按照feature列的value进行 二元切分)\n",
    "        Description：在给定特征和特征值的情况下，该函数通过数组过滤方式将上述数据集合切分得到两个子集并返回。\n",
    "    Args:\n",
    "        dataMat 数据集\n",
    "        feature 待切分的特征列\n",
    "        value 特征列要比较的值\n",
    "    Returns:\n",
    "        mat0 小于等于 value 的数据集在左边\n",
    "        mat1 大于 value 的数据集在右边\n",
    "    Raises:\n",
    "    \"\"\"\n",
    "    # # 测试案例\n",
    "    # print 'dataSet[:, feature]=', dataSet[:, feature]\n",
    "    # print 'nonzero(dataSet[:, feature] > value)[0]=', nonzero(dataSet[:, feature] > value)[0]\n",
    "    # print 'nonzero(dataSet[:, feature] <= value)[0]=', nonzero(dataSet[:, feature] <= value)[0]\n",
    "\n",
    "    # dataSet[:, feature] 取去每一行中，第1列的值(从0开始算)\n",
    "    # nonzero(dataSet[:, feature] > value)  返回结果为true行的index下标\n",
    "    mat0 = dataSet[nonzero(dataSet[:, feature] <= value)[0], :]\n",
    "    mat1 = dataSet[nonzero(dataSet[:, feature] > value)[0], :]\n",
    "    return mat0, mat1"
   ]
  },
  {
   "cell_type": "code",
   "execution_count": 4,
   "metadata": {},
   "outputs": [],
   "source": [
    "def regLeaf(dataSet):\n",
    "    return mean(dataSet[:, -1])\n",
    "\n",
    "\n",
    "# 计算总方差=方差*样本数\n",
    "# 我的理解是：求这组数据的方差，即通过决策树划分，可以让靠近的数据分到同一类中去\n",
    "def regErr(dataSet):\n",
    "    # shape(dataSet)[0] 表示行数\n",
    "    return var(dataSet[:, -1]) * shape(dataSet)[0]"
   ]
  },
  {
   "cell_type": "code",
   "execution_count": 5,
   "metadata": {},
   "outputs": [],
   "source": [
    "def createTree(dataSet, leafType=regLeaf, errType=regErr, ops=(1, 4)):\n",
    "    \"\"\"createTree(获取回归树)\n",
    "        Description：递归函数：如果构建的是回归树，该模型是一个常数，如果是模型树，其模型师一个线性方程。\n",
    "    Args:\n",
    "        dataSet      加载的原始数据集\n",
    "        leafType     建立叶子点的函数\n",
    "        errType      误差计算函数\n",
    "        ops=(1, 4)   [容许误差下降值，切分的最少样本数]\n",
    "    Returns:\n",
    "        retTree    决策树最后的结果\n",
    "    \"\"\"\n",
    "    # 选择最好的切分方式： feature索引值，最优切分值\n",
    "    # choose the best split\n",
    "    feat, val = chooseBestSplit(dataSet, leafType, errType, ops)\n",
    "    # if the splitting hit a stop condition return val\n",
    "    # 如果 splitting 达到一个停止条件，那么返回 val\n",
    "    if feat is None:\n",
    "        return val\n",
    "    retTree = {}\n",
    "    retTree['spInd'] = feat\n",
    "    retTree['spVal'] = val\n",
    "    # 大于在右边，小于在左边，分为2个数据集\n",
    "    lSet, rSet = binSplitDataSet(dataSet, feat, val)\n",
    "    # 递归的进行调用，在左右子树中继续递归生成树\n",
    "    retTree['left'] = createTree(lSet, leafType, errType, ops)\n",
    "    retTree['right'] = createTree(rSet, leafType, errType, ops)\n",
    "    return retTree"
   ]
  },
  {
   "cell_type": "code",
   "execution_count": 6,
   "metadata": {},
   "outputs": [],
   "source": [
    "def chooseBestSplit(dataSet, leafType=regLeaf, errType=regErr, ops=(1, 4)):\n",
    "    \"\"\"chooseBestSplit(用最佳方式切分数据集 和 生成相应的叶节点)\n",
    "\n",
    "    Args:\n",
    "        dataSet   加载的原始数据集\n",
    "        leafType  建立叶子点的函数\n",
    "        errType   误差计算函数(求总方差)\n",
    "        ops       [容许误差下降值，切分的最少样本数]。\n",
    "    Returns:\n",
    "        bestIndex feature的index坐标\n",
    "        bestValue 切分的最优值\n",
    "    Raises:\n",
    "    \"\"\"\n",
    "\n",
    "    # ops=(1,4)，非常重要，因为它决定了决策树划分停止的threshold值，被称为预剪枝（prepruning），其实也就是用于控制函数的停止时机。\n",
    "    # 之所以这样说，是因为它防止决策树的过拟合，所以当误差的下降值小于tolS，或划分后的集合size小于tolN时，选择停止继续划分。\n",
    "    # 最小误差下降值，划分后的误差减小小于这个差值，就不用继续划分\n",
    "    tolS = ops[0]\n",
    "    # 划分最小 size 小于，就不继续划分了\n",
    "    tolN = ops[1]\n",
    "    #如果数据集的最后一列所有值相等就退出\n",
    "    #dataSet[:, -1].T.tolist()[0] 取数据集的最后一列，转置为行向量，然后转换为list,取该list中的第一个元素。\n",
    "    if len(set(dataSet[:, -1].T.tolist()[0])) == 1: # 如果集合size为1，也就是说全部的数据都是同一个类别，不用继续划分。\n",
    "        #  exit cond 1\n",
    "        return None, leafType(dataSet)\n",
    "    # 计算行列值\n",
    "    m, n = shape(dataSet)\n",
    "    # 无分类误差的总方差和\n",
    "    # the choice of the best feature is driven by Reduction in RSS error from mean\n",
    "    S = errType(dataSet)\n",
    "    # inf 正无穷大\n",
    "    bestS, bestIndex, bestValue = inf, 0, 0\n",
    "    # 循环处理每一列对应的feature值\n",
    "    for featIndex in range(n-1): # 对于每个特征\n",
    "        # 下面的一行表示的是将某一列全部的数据转换为行，然后设置为list形式\n",
    "        for splitVal in set(dataSet[:, featIndex].T.tolist()[0]):\n",
    "            # 对该列进行分组，然后组内的成员的val值进行 二元切分\n",
    "            mat0, mat1 = binSplitDataSet(dataSet, featIndex, splitVal)\n",
    "            # 判断二元切分的方式的元素数量是否符合预期\n",
    "            if (shape(mat0)[0] < tolN) or (shape(mat1)[0] < tolN):\n",
    "                continue\n",
    "            newS = errType(mat0) + errType(mat1)\n",
    "            # 如果二元切分，算出来的误差在可接受范围内，那么就记录切分点，并记录最小误差\n",
    "            # 如果划分后误差小于 bestS，则说明找到了新的bestS\n",
    "            if newS < bestS:\n",
    "                bestIndex = featIndex\n",
    "                bestValue = splitVal\n",
    "                bestS = newS\n",
    "    # 判断二元切分的方式的元素误差是否符合预期\n",
    "    # if the decrease (S-bestS) is less than a threshold don't do the split\n",
    "    if (S - bestS) < tolS:\n",
    "        return None, leafType(dataSet)\n",
    "    mat0, mat1 = binSplitDataSet(dataSet, bestIndex, bestValue)\n",
    "    # 对整体的成员进行判断，是否符合预期\n",
    "    # 如果集合的 size 小于 tolN \n",
    "    if (shape(mat0)[0] < tolN) or (shape(mat1)[0] < tolN): # 当最佳划分后，集合过小，也不划分，产生叶节点\n",
    "        return None, leafType(dataSet)\n",
    "    return bestIndex, bestValue"
   ]
  },
  {
   "cell_type": "code",
   "execution_count": 7,
   "metadata": {},
   "outputs": [
    {
     "data": {
      "text/plain": [
       "matrix([[1., 0., 0., 0.],\n",
       "        [0., 1., 0., 0.],\n",
       "        [0., 0., 1., 0.],\n",
       "        [0., 0., 0., 1.]])"
      ]
     },
     "execution_count": 7,
     "metadata": {},
     "output_type": "execute_result"
    }
   ],
   "source": [
    "test=mat(eye(4))\n",
    "test"
   ]
  },
  {
   "cell_type": "code",
   "execution_count": 8,
   "metadata": {},
   "outputs": [
    {
     "data": {
      "text/plain": [
       "(matrix([[1., 0., 0., 0.],\n",
       "         [0., 0., 1., 0.],\n",
       "         [0., 0., 0., 1.]]),\n",
       " matrix([[0., 1., 0., 0.]]))"
      ]
     },
     "execution_count": 8,
     "metadata": {},
     "output_type": "execute_result"
    }
   ],
   "source": [
    "binSplitDataSet(test,1,0.5)"
   ]
  },
  {
   "cell_type": "code",
   "execution_count": 10,
   "metadata": {},
   "outputs": [],
   "source": [
    "myDat=loadDataSet(\"data/data1.txt\")"
   ]
  },
  {
   "cell_type": "code",
   "execution_count": 11,
   "metadata": {},
   "outputs": [
    {
     "data": {
      "text/plain": [
       "{'spInd': 0,\n",
       " 'spVal': 0.48813,\n",
       " 'left': -0.04465028571428572,\n",
       " 'right': 1.0180967672413792}"
      ]
     },
     "execution_count": 11,
     "metadata": {},
     "output_type": "execute_result"
    }
   ],
   "source": [
    "createTree(mat(myDat))"
   ]
  },
  {
   "cell_type": "code",
   "execution_count": 12,
   "metadata": {},
   "outputs": [],
   "source": [
    "def isTree(obj):\n",
    "    \"\"\"\n",
    "    Desc:\n",
    "        测试输入变量是否是一棵树,即是否是一个字典\n",
    "    Args:\n",
    "        obj -- 输入变量\n",
    "    Returns:\n",
    "        返回布尔类型的结果。如果 obj 是一个字典，返回true，否则返回 false\n",
    "    \"\"\"\n",
    "    return (type(obj).__name__ == 'dict')\n",
    "\n",
    "\n",
    "# 计算左右枝丫的均值\n",
    "def getMean(tree):\n",
    "    \"\"\"\n",
    "    Desc:\n",
    "        从上往下遍历树直到叶节点为止，如果找到两个叶节点则计算它们的平均值。\n",
    "        对 tree 进行塌陷处理，即返回树平均值。\n",
    "    Args:\n",
    "        tree -- 输入的树\n",
    "    Returns:\n",
    "        返回 tree 节点的平均值\n",
    "    \"\"\"\n",
    "    if isTree(tree['right']):\n",
    "        tree['right'] = getMean(tree['right'])\n",
    "    if isTree(tree['left']):\n",
    "        tree['left'] = getMean(tree['left'])\n",
    "    return (tree['left']+tree['right'])/2.0\n",
    "\n",
    "\n",
    "# 检查是否适合合并分枝\n",
    "def prune(tree, testData):\n",
    "    \"\"\"\n",
    "    Desc:\n",
    "        从上而下找到叶节点，用测试数据集来判断将这些叶节点合并是否能降低测试误差\n",
    "    Args:\n",
    "        tree -- 待剪枝的树\n",
    "        testData -- 剪枝所需要的测试数据 testData \n",
    "    Returns:\n",
    "        tree -- 剪枝完成的树\n",
    "    \"\"\"\n",
    "    # 判断是否测试数据集没有数据，如果没有，就直接返回tree本身的均值\n",
    "    if shape(testData)[0] == 0:\n",
    "        return getMean(tree)\n",
    "\n",
    "    # 判断分枝是否是dict字典，如果是就将测试数据集进行切分\n",
    "    if (isTree(tree['right']) or isTree(tree['left'])):\n",
    "        lSet, rSet = binSplitDataSet(testData, tree['spInd'], tree['spVal'])\n",
    "    # 如果是左边分枝是字典，就传入左边的数据集和左边的分枝，进行递归\n",
    "    if isTree(tree['left']):\n",
    "        tree['left'] = prune(tree['left'], lSet)\n",
    "    # 如果是右边分枝是字典，就传入左边的数据集和左边的分枝，进行递归\n",
    "    if isTree(tree['right']):\n",
    "        tree['right'] = prune(tree['right'], rSet)\n",
    "\n",
    "    # 上面的一系列操作本质上就是将测试数据集按照训练完成的树拆分好，对应的值放到对应的节点\n",
    "\n",
    "    # 如果左右两边同时都不是dict字典，也就是左右两边都是叶节点，而不是子树了，那么分割测试数据集。\n",
    "    # 1. 如果正确 \n",
    "    #   * 那么计算一下总方差 和 该结果集的本身不分枝的总方差比较\n",
    "    #   * 如果 合并的总方差 < 不合并的总方差，那么就进行合并\n",
    "    # 注意返回的结果： 如果可以合并，原来的dict就变为了 数值\n",
    "    if not isTree(tree['left']) and not isTree(tree['right']):\n",
    "        lSet, rSet = binSplitDataSet(testData, tree['spInd'], tree['spVal'])\n",
    "        # power(x, y)表示x的y次方\n",
    "        errorNoMerge = sum(power(lSet[:, -1] - tree['left'], 2)) + sum(power(rSet[:, -1] - tree['right'], 2))\n",
    "        treeMean = (tree['left'] + tree['right'])/2.0\n",
    "        errorMerge = sum(power(testData[:, -1] - treeMean, 2))\n",
    "        # 如果 合并的总方差 < 不合并的总方差，那么就进行合并\n",
    "        if errorMerge < errorNoMerge:\n",
    "            print(\"merging\")\n",
    "            return treeMean\n",
    "        else:\n",
    "            return tree\n",
    "    else:\n",
    "        return tree"
   ]
  },
  {
   "cell_type": "code",
   "execution_count": 14,
   "metadata": {},
   "outputs": [],
   "source": [
    "def regTreeEval(model, inDat):\n",
    "    \"\"\"\n",
    "    Desc:\n",
    "        对 回归树 进行预测\n",
    "    Args:\n",
    "        model -- 指定模型，可选值为 回归树模型 或者 模型树模型，这里为回归树\n",
    "        inDat -- 输入的测试数据\n",
    "    Returns:\n",
    "        float(model) -- 将输入的模型数据转换为 浮点数 返回\n",
    "    \"\"\"\n",
    "    return float(model)\n",
    "\n",
    "\n",
    "# 模型树测试案例\n",
    "# 对输入数据进行格式化处理，在原数据矩阵上增加第0列，元素的值都是1，\n",
    "# 也就是增加偏移值，和我们之前的简单线性回归是一个套路，增加一个偏移量\n",
    "def modelTreeEval(model, inDat):\n",
    "    \"\"\"\n",
    "    Desc:\n",
    "        对 模型树 进行预测\n",
    "    Args:\n",
    "        model -- 输入模型，可选值为 回归树模型 或者 模型树模型，这里为模型树模型\n",
    "        inDat -- 输入的测试数据\n",
    "    Returns:\n",
    "        float(X * model) -- 将测试数据乘以 回归系数 得到一个预测值 ，转化为 浮点数 返回\n",
    "    \"\"\"\n",
    "    n = shape(inDat)[1]\n",
    "    X = mat(ones((1, n+1)))\n",
    "    X[:, 1: n+1] = inDat\n",
    "    # print X, model\n",
    "    return float(X * model)\n",
    "\n",
    "\n",
    "# 计算预测的结果\n",
    "# 在给定树结构的情况下，对于单个数据点，该函数会给出一个预测值。\n",
    "# modelEval是对叶节点进行预测的函数引用，指定树的类型，以便在叶节点上调用合适的模型。\n",
    "# 此函数自顶向下遍历整棵树，直到命中叶节点为止，一旦到达叶节点，它就会在输入数据上\n",
    "# 调用modelEval()函数，该函数的默认值为regTreeEval()\n",
    "def treeForeCast(tree, inData, modelEval=regTreeEval):\n",
    "    \"\"\"\n",
    "    Desc:\n",
    "        对特定模型的树进行预测，可以是 回归树 也可以是 模型树\n",
    "    Args:\n",
    "        tree -- 已经训练好的树的模型\n",
    "        inData -- 输入的测试数据\n",
    "        modelEval -- 预测的树的模型类型，可选值为 regTreeEval（回归树） 或 modelTreeEval（模型树），默认为回归树\n",
    "    Returns:\n",
    "        返回预测值\n",
    "    \"\"\"\n",
    "    if not isTree(tree):\n",
    "        return modelEval(tree, inData)\n",
    "    if inData[tree['spInd']] <= tree['spVal']:\n",
    "        if isTree(tree['left']):\n",
    "            return treeForeCast(tree['left'], inData, modelEval)\n",
    "        else:\n",
    "            return modelEval(tree['left'], inData)\n",
    "    else:\n",
    "        if isTree(tree['right']):\n",
    "            return treeForeCast(tree['right'], inData, modelEval)\n",
    "        else:\n",
    "            return modelEval(tree['right'], inData)\n",
    "\n",
    "\n",
    "# 预测结果\n",
    "def createForeCast(tree, testData, modelEval=regTreeEval):\n",
    "    \"\"\"\n",
    "    Desc:\n",
    "        调用 treeForeCast ，对特定模型的树进行预测，可以是 回归树 也可以是 模型树\n",
    "    Args:\n",
    "        tree -- 已经训练好的树的模型\n",
    "        inData -- 输入的测试数据\n",
    "        modelEval -- 预测的树的模型类型，可选值为 regTreeEval（回归树） 或 modelTreeEval（模型树），默认为回归树\n",
    "    Returns:\n",
    "        返回预测值矩阵\n",
    "    \"\"\"\n",
    "    m = len(testData)\n",
    "    yHat = mat(zeros((m, 1)))\n",
    "    # print yHat\n",
    "    for i in range(m):\n",
    "        yHat[i, 0] = treeForeCast(tree, mat(testData[i]), modelEval)\n",
    "        # print \"yHat==>\", yHat[i, 0]\n",
    "    return yHat\n",
    "\n",
    "\n"
   ]
  },
  {
   "cell_type": "code",
   "execution_count": 19,
   "metadata": {},
   "outputs": [],
   "source": [
    "def modelLeaf(dataSet):\n",
    "    \"\"\"\n",
    "    Desc:\n",
    "        当数据不再需要切分的时候，生成叶节点的模型。\n",
    "    Args:\n",
    "        dataSet -- 输入数据集\n",
    "    Returns:\n",
    "        调用 linearSolve 函数，返回得到的 回归系数ws\n",
    "    \"\"\"\n",
    "    ws, X, Y = linearSolve(dataSet)\n",
    "    return ws\n",
    "\n",
    "\n",
    "# 计算线性模型的误差值\n",
    "def modelErr(dataSet):\n",
    "    \"\"\"\n",
    "    Desc:\n",
    "        在给定数据集上计算误差。\n",
    "    Args:\n",
    "        dataSet -- 输入数据集\n",
    "    Returns:\n",
    "        调用 linearSolve 函数，返回 yHat 和 Y 之间的平方误差。\n",
    "    \"\"\"\n",
    "    ws, X, Y = linearSolve(dataSet)\n",
    "    yHat = X * ws\n",
    "    # print corrcoef(yHat, Y, rowvar=0)\n",
    "    return sum(power(Y - yHat, 2))\n",
    "\n",
    "\n",
    " # helper function used in two places\n",
    "def linearSolve(dataSet):\n",
    "    \"\"\"\n",
    "    Desc:\n",
    "        将数据集格式化成目标变量Y和自变量X，执行简单的线性回归，得到ws\n",
    "    Args:\n",
    "        dataSet -- 输入数据\n",
    "    Returns:\n",
    "        ws -- 执行线性回归的回归系数 \n",
    "        X -- 格式化自变量X\n",
    "        Y -- 格式化目标变量Y\n",
    "    \"\"\"\n",
    "    m, n = shape(dataSet)\n",
    "    # 产生一个关于1的矩阵\n",
    "    X = mat(ones((m, n)))\n",
    "    Y = mat(ones((m, 1)))\n",
    "    # X的0列为1，常数项，用于计算平衡误差\n",
    "    X[:, 1: n] = dataSet[:, 0: n-1]\n",
    "    Y = dataSet[:, -1]\n",
    "\n",
    "    # 转置矩阵*矩阵\n",
    "    xTx = X.T * X\n",
    "    # 如果矩阵的逆不存在，会造成程序异常\n",
    "    if linalg.det(xTx) == 0.0:\n",
    "        raise NameError('This matrix is singular, cannot do inverse,\\ntry increasing the second value of ops')\n",
    "    # 最小二乘法求最优解:  w0*1+w1*x1=y\n",
    "    ws = xTx.I * (X.T * Y)\n",
    "    return ws, X, Y"
   ]
  },
  {
   "cell_type": "code",
   "execution_count": 15,
   "metadata": {},
   "outputs": [],
   "source": [
    "trainMat = mat(loadDataSet('data/bikeSpeedVsIq_train.txt'))\n",
    "testMat = mat(loadDataSet('data/bikeSpeedVsIq_test.txt'))"
   ]
  },
  {
   "cell_type": "code",
   "execution_count": 16,
   "metadata": {},
   "outputs": [
    {
     "name": "stdout",
     "output_type": "stream",
     "text": [
      "{'spInd': 0, 'spVal': 10.0, 'left': {'spInd': 0, 'spVal': 7.0, 'left': {'spInd': 0, 'spVal': 5.0, 'left': 50.94683665, 'right': 69.02117757692308}, 'right': 94.7066578125}, 'right': {'spInd': 0, 'spVal': 17.0, 'left': {'spInd': 0, 'spVal': 14.0, 'left': 122.90893026923078, 'right': 141.06067981481482}, 'right': {'spInd': 0, 'spVal': 20.0, 'left': 157.0484078846154, 'right': 168.34161286956524}}}\n"
     ]
    }
   ],
   "source": [
    "    myTree1 = createTree(trainMat, ops=(1, 20))\n",
    "    print(myTree1)\n",
    "    yHat1 = createForeCast(myTree1, testMat[:, 0])"
   ]
  },
  {
   "cell_type": "code",
   "execution_count": 17,
   "metadata": {},
   "outputs": [
    {
     "name": "stdout",
     "output_type": "stream",
     "text": [
      "回归树: 0.9640852318222145\n"
     ]
    }
   ],
   "source": [
    "    print(\"回归树:\", corrcoef(yHat1, testMat[:, 1],rowvar=0)[0, 1])"
   ]
  },
  {
   "cell_type": "code",
   "execution_count": 20,
   "metadata": {},
   "outputs": [
    {
     "name": "stdout",
     "output_type": "stream",
     "text": [
      "{'spInd': 0, 'spVal': 4.0, 'left': matrix([[ 68.87014372],\n",
      "        [-11.78556471]]), 'right': {'spInd': 0, 'spVal': 12.0, 'left': {'spInd': 0, 'spVal': 9.0, 'left': {'spInd': 0, 'spVal': 6.0, 'left': matrix([[-17.21714265],\n",
      "        [ 13.72153115]]), 'right': matrix([[-11.84548851],\n",
      "        [ 12.12382261]])}, 'right': matrix([[-2.87684083],\n",
      "        [10.20804482]])}, 'right': {'spInd': 0, 'spVal': 16.0, 'left': matrix([[43.41251481],\n",
      "        [ 6.37966738]]), 'right': {'spInd': 0, 'spVal': 20.0, 'left': matrix([[37.54851927],\n",
      "        [ 6.23298637]]), 'right': matrix([[47.58621512],\n",
      "        [ 5.51066299]])}}}}\n",
      "模型树: 0.9760412191380623\n",
      "[[37.58916794]\n",
      " [ 6.18978355]]\n",
      "线性回归: 0.9434684235674763\n"
     ]
    }
   ],
   "source": [
    "    # 模型树\n",
    "    myTree2 = createTree(trainMat, modelLeaf, modelErr, ops=(1, 20))\n",
    "    yHat2 = createForeCast(myTree2, testMat[:, 0], modelTreeEval)\n",
    "    print(myTree2)\n",
    "    print(\"模型树:\", corrcoef(yHat2, testMat[:, 1],rowvar=0)[0, 1])\n",
    "\n",
    "    # 线性回归\n",
    "    ws, X, Y = linearSolve(trainMat)\n",
    "    print(ws)\n",
    "    m = len(testMat[:, 0])\n",
    "    yHat3 = mat(zeros((m, 1)))\n",
    "    for i in range(shape(testMat)[0]):\n",
    "        yHat3[i] = testMat[i, 0]*ws[1, 0] + ws[0, 0]\n",
    "    print(\"线性回归:\", corrcoef(yHat3, testMat[:, 1],rowvar=0)[0, 1])"
   ]
  },
  {
   "cell_type": "code",
   "execution_count": null,
   "metadata": {},
   "outputs": [],
   "source": []
  }
 ],
 "metadata": {
  "kernelspec": {
   "display_name": "Python 3",
   "language": "python",
   "name": "python3"
  },
  "language_info": {
   "codemirror_mode": {
    "name": "ipython",
    "version": 3
   },
   "file_extension": ".py",
   "mimetype": "text/x-python",
   "name": "python",
   "nbconvert_exporter": "python",
   "pygments_lexer": "ipython3",
   "version": "3.7.6"
  }
 },
 "nbformat": 4,
 "nbformat_minor": 4
}
