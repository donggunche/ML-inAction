{
 "cells": [
  {
   "cell_type": "code",
   "execution_count": 2,
   "metadata": {},
   "outputs": [],
   "source": [
    "\n",
    "from numpy import *"
   ]
  },
  {
   "cell_type": "code",
   "execution_count": 1,
   "metadata": {},
   "outputs": [],
   "source": [
    "import matplotlib\n",
    "from matplotlib.figure import Figure\n",
    "from matplotlib.backends.backend_tkagg import FigureCanvasTkAgg\n",
    "matplotlib.use('TkAgg')\n"
   ]
  },
  {
   "cell_type": "code",
   "execution_count": 3,
   "metadata": {},
   "outputs": [],
   "source": [
    "def reDraw(tolS, tolN):\n",
    "    # clear the figure\n",
    "    reDraw.f.clf()\n",
    "    reDraw.a = reDraw.f.add_subplot(111)\n",
    "\n",
    "    # 检查复选框是否选中\n",
    "    if chkBtnVar.get():\n",
    "        if tolN < 2:\n",
    "            tolN = 2\n",
    "        myTree = regTrees.createTree(reDraw.rawDat, regTrees.modelLeaf, regTrees.modelErr, (tolS, tolN))\n",
    "        yHat = regTrees.createForeCast(myTree, reDraw.testDat, regTrees.modelTreeEval)\n",
    "    else:\n",
    "        myTree = regTrees.createTree(reDraw.rawDat, ops=(tolS, tolN))\n",
    "        yHat = regTrees.createForeCast(myTree, reDraw.testDat)\n",
    "\n",
    "    # use scatter for data set\n",
    "    reDraw.a.scatter(reDraw.rawDat[:, 0], reDraw.rawDat[:, 1], s=5)\n",
    "    # use plot for yHat\n",
    "    reDraw.a.plot(reDraw.testDat, yHat, linewidth=2.0, c='red')\n",
    "    reDraw.canvas.show()\n",
    "\n",
    "\n",
    "def getInputs():\n",
    "    try:\n",
    "        tolN = int(tolNentry.get())\n",
    "    except:\n",
    "        tolN = 10\n",
    "        print(\"enter Integer for tolN\")\n",
    "        tolNentry.delete(0, END)\n",
    "        tolNentry.insert(0, '10')\n",
    "    try:\n",
    "        tolS = float(tolSentry.get())\n",
    "    except:\n",
    "        tolS = 1.0\n",
    "        print(\"enter Float for tolS\")\n",
    "        tolSentry.delete(0, END)\n",
    "        tolSentry.insert(0, '1.0')\n",
    "    return tolN, tolS\n",
    "\n",
    "\n",
    "# 画新的tree\n",
    "def drawNewTree():\n",
    "    # #get values from Entry boxes\n",
    "    tolN, tolS = getInputs()\n",
    "    reDraw(tolS, tolN)\n",
    "\n"
   ]
  },
  {
   "cell_type": "code",
   "execution_count": null,
   "metadata": {},
   "outputs": [],
   "source": []
  }
 ],
 "metadata": {
  "kernelspec": {
   "display_name": "Python 3",
   "language": "python",
   "name": "python3"
  },
  "language_info": {
   "codemirror_mode": {
    "name": "ipython",
    "version": 3
   },
   "file_extension": ".py",
   "mimetype": "text/x-python",
   "name": "python",
   "nbconvert_exporter": "python",
   "pygments_lexer": "ipython3",
   "version": "3.7.6"
  }
 },
 "nbformat": 4,
 "nbformat_minor": 4
}
