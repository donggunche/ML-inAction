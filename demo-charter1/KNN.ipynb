{
 "cells": [
  {
   "cell_type": "code",
   "execution_count": 1,
   "metadata": {},
   "outputs": [],
   "source": [
    "from numpy import *\n",
    "import operator"
   ]
  },
  {
   "cell_type": "code",
   "execution_count": 9,
   "metadata": {},
   "outputs": [],
   "source": [
    "def createDataSet():\n",
    "    group = array([[1.0, 1.1], [1.0, 1.0], [0, 0], [0, 0.1]])\n",
    "    labels = ['A', 'A', 'B', 'B']\n",
    "    return group, labels"
   ]
  },
  {
   "cell_type": "code",
   "execution_count": 10,
   "metadata": {},
   "outputs": [],
   "source": [
    " gr, la=createDataSet()"
   ]
  },
  {
   "cell_type": "code",
   "execution_count": 13,
   "metadata": {},
   "outputs": [],
   "source": [
    "def classify0(inX, dataSet, labels, k):\n",
    "    \"\"\"\n",
    "    Desc:\n",
    "        kNN 的分类函数\n",
    "    Args:\n",
    "        inX -- 用于分类的输入向量/测试数据\n",
    "        dataSet -- 训练数据集的 features\n",
    "        labels -- 训练数据集的 labels\n",
    "        k -- 选择最近邻的数目\n",
    "    Returns:\n",
    "        sortedClassCount[0][0] -- 输入向量的预测分类 labels\n",
    "\n",
    "    注意：labels元素数目和dataSet行数相同；程序使用欧式距离公式.\n",
    "\n",
    "    预测数据所在分类可在输入下列命令\n",
    "    kNN.classify0([0,0], group, labels, 3)\n",
    "    \"\"\"\n",
    "\n",
    "    # -----------实现 classify0() 方法的第一种方式----------------------------------------------------------------------------------------------------------------------------\n",
    "    # 1. 距离计算\n",
    "    dataSetSize = dataSet.shape[0]\n",
    "    # tile生成和训练样本对应的矩阵，并与训练样本求差\n",
    "    \"\"\"\n",
    "    tile: 列-3表示复制的行数， 行-1／2表示对inx的重复的次数\n",
    "\n",
    "    In [8]: tile(inx, (3, 1))\n",
    "    Out[8]:\n",
    "    array([[1, 2, 3],\n",
    "        [1, 2, 3],\n",
    "        [1, 2, 3]])\n",
    "\n",
    "    In [9]: tile(inx, (3, 2))\n",
    "    Out[9]:\n",
    "    array([[1, 2, 3, 1, 2, 3],\n",
    "        [1, 2, 3, 1, 2, 3],\n",
    "        [1, 2, 3, 1, 2, 3]])\n",
    "    \"\"\"\n",
    "    diffMat = tile(inX, (dataSetSize, 1)) - dataSet\n",
    "    \"\"\"\n",
    "    欧氏距离： 点到点之间的距离\n",
    "       第一行： 同一个点 到 dataSet 的第一个点的距离。\n",
    "       第二行： 同一个点 到 dataSet 的第二个点的距离。\n",
    "       ...\n",
    "       第N行： 同一个点 到 dataSet 的第N个点的距离。\n",
    "\n",
    "    [[1,2,3],[1,2,3]]-[[1,2,3],[1,2,0]]\n",
    "    (A1-A2)^2+(B1-B2)^2+(c1-c2)^2\n",
    "    \"\"\"\n",
    "    # 取平方\n",
    "    sqDiffMat = diffMat ** 2\n",
    "    # 将矩阵的每一行相加\n",
    "    sqDistances = sqDiffMat.sum(axis=1)\n",
    "    # 开方\n",
    "    distances = sqDistances ** 0.5\n",
    "    # 根据距离排序从小到大的排序，返回对应的索引位置\n",
    "    # argsort() 是将x中的元素从小到大排列，提取其对应的index（索引），然后输出到y。\n",
    "    # 例如：y=array([3,0,2,1,4,5]) 则，x[3]=1最小，所以y[0]=3;x[5]=5最大，所以y[5]=5。\n",
    "    # print 'distances=', distances\n",
    "    sortedDistIndicies = distances.argsort()\n",
    "    # print 'distances.argsort()=', sortedDistIndicies\n",
    "\n",
    "    # 2. 选择距离最小的k个点\n",
    "    classCount = {}\n",
    "    for i in range(k):\n",
    "        # 找到该样本的类型\n",
    "        voteIlabel = labels[sortedDistIndicies[i]]\n",
    "        # 在字典中将该类型加一\n",
    "        # 字典的get方法\n",
    "        # 如：list.get(k,d) 其中 get相当于一条if...else...语句,参数k在字典中，字典将返回list[k];如果参数k不在字典中则返回参数d,如果K在字典中则返回k对应的value值\n",
    "        # l = {5:2,3:4}\n",
    "        # print l.get(3,0)返回的值是4；\n",
    "        # Print l.get（1,0）返回值是0；\n",
    "        classCount[voteIlabel] = classCount.get(voteIlabel, 0) + 1\n",
    "    # 3. 排序并返回出现最多的那个类型\n",
    "    # 字典的 items() 方法，以列表返回可遍历的(键，值)元组数组。\n",
    "    # 例如：dict = {'Name': 'Zara', 'Age': 7}   print \"Value : %s\" %  dict.items()   Value : [('Age', 7), ('Name', 'Zara')]\n",
    "    # sorted 中的第2个参数 key=operator.itemgetter(1) 这个参数的意思是先比较第几个元素\n",
    "    # 例如：a=[('b',2),('a',1),('c',0)]  b=sorted(a,key=operator.itemgetter(1)) >>>b=[('c',0),('a',1),('b',2)] 可以看到排序是按照后边的0,1,2进行排序的，而不是a,b,c\n",
    "    # b=sorted(a,key=operator.itemgetter(0)) >>>b=[('a',1),('b',2),('c',0)] 这次比较的是前边的a,b,c而不是0,1,2\n",
    "    # b=sorted(a,key=opertator.itemgetter(1,0)) >>>b=[('c',0),('a',1),('b',2)] 这个是先比较第2个元素，然后对第一个元素进行排序，形成多级排序。\n",
    "    sortedClassCount = sorted(classCount.items(), key=operator.itemgetter(1), reverse=True)\n",
    "    return sortedClassCount[0][0]"
   ]
  },
  {
   "cell_type": "code",
   "execution_count": 14,
   "metadata": {},
   "outputs": [
    {
     "data": {
      "text/plain": [
       "'B'"
      ]
     },
     "execution_count": 14,
     "metadata": {},
     "output_type": "execute_result"
    }
   ],
   "source": [
    "classify0([0,0],gr,la,3)"
   ]
  },
  {
   "cell_type": "code",
   "execution_count": 15,
   "metadata": {},
   "outputs": [],
   "source": [
    "def file2matrix(filename):\n",
    "    \"\"\"\n",
    "    导入训练数据\n",
    "    :param filename: 数据文件路径\n",
    "    :return: 数据矩阵returnMat和对应的类别classLabelVector\n",
    "    \"\"\"\n",
    "    fr = open(filename, 'r')\n",
    "    # 获得文件中的数据行的行数\n",
    "    numberOfLines = len(fr.readlines())\n",
    "    # 生成对应的空矩阵\n",
    "    # 例如：zeros(2，3)就是生成一个 2*3 的矩阵，各个位置上全是 0 \n",
    "    returnMat = zeros((numberOfLines, 3))  # prepare matrix to return\n",
    "    classLabelVector = []  # prepare labels return\n",
    "    fr = open(filename, 'r')\n",
    "    index = 0\n",
    "    for line in fr.readlines():\n",
    "        # str.strip([chars]) --返回移除字符串头尾指定的字符生成的新字符串\n",
    "        line = line.strip()\n",
    "        # 以 '\\t' 切割字符串\n",
    "        listFromLine = line.split('\\t')\n",
    "        # 每列的属性数据，即 features\n",
    "        returnMat[index] = listFromLine[0 : 3]\n",
    "        # 每列的类别数据，就是 label 标签数据\n",
    "        classLabelVector.append(int(listFromLine[-1]))\n",
    "        index += 1\n",
    "    # 返回数据矩阵returnMat和对应的类别classLabelVector\n",
    "    return returnMat, classLabelVector"
   ]
  },
  {
   "cell_type": "code",
   "execution_count": null,
   "metadata": {},
   "outputs": [],
   "source": [
    "datingDataMat, datingLabels = file2matrix(\"KNN/datingTestSet2.txt\")  # load data setfrom file"
   ]
  }
 ],
 "metadata": {
  "kernelspec": {
   "display_name": "Python 3",
   "language": "python",
   "name": "python3"
  },
  "language_info": {
   "codemirror_mode": {
    "name": "ipython",
    "version": 3
   },
   "file_extension": ".py",
   "mimetype": "text/x-python",
   "name": "python",
   "nbconvert_exporter": "python",
   "pygments_lexer": "ipython3",
   "version": "3.7.6"
  }
 },
 "nbformat": 4,
 "nbformat_minor": 4
}
