{
 "cells": [
  {
   "cell_type": "code",
   "execution_count": 1,
   "metadata": {},
   "outputs": [],
   "source": [
    "from numpy import *\n",
    "from time import sleep\n",
    "import matplotlib\n",
    "from matplotlib import pyplot as plt"
   ]
  },
  {
   "cell_type": "code",
   "execution_count": 2,
   "metadata": {},
   "outputs": [],
   "source": [
    "def loadDataSet(fileName):\n",
    "    '''\n",
    "    加载数据集\n",
    "    :param fileName:\n",
    "    :return:\n",
    "    '''\n",
    "    # 初始化一个空列表\n",
    "    dataSet = []\n",
    "    # 读取文件\n",
    "    fr = open(fileName)\n",
    "    # 循环遍历文件所有行\n",
    "    for line in fr.readlines():\n",
    "        # 切割每一行的数据\n",
    "        curLine = line.strip().split('\\t')\n",
    "        # 将数据转换为浮点类型,便于后面的计算\n",
    "        # fltLine = [float(x) for x in curLine]\n",
    "        # 将数据追加到dataMat\n",
    "        fltLine = list(map(float,curLine))    # 映射所有的元素为 float（浮点数）类型\n",
    "        dataSet.append(fltLine)\n",
    "    # 返回dataMat\n",
    "    return dataSet"
   ]
  },
  {
   "cell_type": "code",
   "execution_count": 3,
   "metadata": {},
   "outputs": [],
   "source": [
    "def distEclud(vecA, vecB):\n",
    "    '''\n",
    "    欧氏距离计算函数\n",
    "    :param vecA:\n",
    "    :param vecB:\n",
    "    :return:\n",
    "    '''\n",
    "    return sqrt(sum(power(vecA - vecB, 2)))"
   ]
  },
  {
   "cell_type": "code",
   "execution_count": 4,
   "metadata": {},
   "outputs": [],
   "source": [
    "def randCent(dataMat, k):\n",
    "    '''\n",
    "    为给定数据集构建一个包含K个随机质心的集合,\n",
    "    随机质心必须要在整个数据集的边界之内,这可以通过找到数据集每一维的最小和最大值来完成\n",
    "    然后生成0到1.0之间的随机数并通过取值范围和最小值,以便确保随机点在数据的边界之内\n",
    "    :param dataMat:\n",
    "    :param k:\n",
    "    :return:\n",
    "    '''\n",
    "    # 获取样本数与特征值\n",
    "    m, n = shape(dataMat)\n",
    "    # 初始化质心,创建(k,n)个以零填充的矩阵\n",
    "    centroids = mat(zeros((k, n)))\n",
    "    # 循环遍历特征值\n",
    "    for j in range(n):\n",
    "        # 计算每一列的最小值\n",
    "        minJ = min(dataMat[:, j])\n",
    "        # 计算每一列的范围值\n",
    "        rangeJ = float(max(dataMat[:, j]) - minJ)\n",
    "        # 计算每一列的质心,并将值赋给centroids\n",
    "        centroids[:, j] = mat(minJ + rangeJ * random.rand(k, 1))\n",
    "    # 返回质心\n",
    "    return centroids"
   ]
  },
  {
   "cell_type": "code",
   "execution_count": 8,
   "metadata": {},
   "outputs": [],
   "source": [
    "datMat=mat(loadDataSet(\"data/testSet.txt\"))"
   ]
  },
  {
   "cell_type": "code",
   "execution_count": 31,
   "metadata": {},
   "outputs": [
    {
     "data": {
      "text/plain": [
       "matrix([[ 1.4578326 ,  4.60847822],\n",
       "        [-1.12390466,  4.23753203],\n",
       "        [-0.27750829, -3.56771077],\n",
       "        [ 1.81301195, -1.98623721]])"
      ]
     },
     "execution_count": 31,
     "metadata": {},
     "output_type": "execute_result"
    }
   ],
   "source": [
    "randCent(datMat,4)"
   ]
  },
  {
   "cell_type": "code",
   "execution_count": 30,
   "metadata": {},
   "outputs": [
    {
     "data": {
      "text/plain": [
       "5.184632816681332"
      ]
     },
     "execution_count": 30,
     "metadata": {},
     "output_type": "execute_result"
    }
   ],
   "source": [
    "distEclud(datMat[0],datMat[1])"
   ]
  },
  {
   "cell_type": "code",
   "execution_count": 36,
   "metadata": {},
   "outputs": [],
   "source": [
    "def kMeans(dataMat, k, distMeas=distEclud, createCent=randCent):\n",
    "    '''\n",
    "    创建K个质心,然后将每个店分配到最近的质心,再重新计算质心。\n",
    "    这个过程重复数次,直到数据点的簇分配结果不再改变为止\n",
    "    :param dataMat: 数据集\n",
    "    :param k: 簇的数目\n",
    "    :param distMeans: 计算距离\n",
    "    :param createCent: 创建初始质心\n",
    "    :return:\n",
    "    '''\n",
    "    # 获取样本数和特征数\n",
    "    m, n = shape(dataMat)\n",
    "    # 初始化一个矩阵来存储每个点的簇分配结果\n",
    "    # clusterAssment包含两个列:一列记录簇索引值,第二列存储误差(误差是指当前点到簇质心的距离,后面会使用该误差来评价聚类的效果)\n",
    "    clusterAssment = mat(zeros((m, 2)))\n",
    "    # 创建质心,随机K个质心\n",
    "    centroids = createCent(dataMat, k)\n",
    "    # 初始化标志变量,用于判断迭代是否继续,如果True,则继续迭代\n",
    "    clusterChanged = True\n",
    "    while clusterChanged:\n",
    "        clusterChanged = False\n",
    "        # 遍历所有数据找到距离每个点最近的质心,\n",
    "        # 可以通过对每个点遍历所有质心并计算点到每个质心的距离来完成\n",
    "        for i in range(m):\n",
    "            minDist = inf\n",
    "            minIndex = -1\n",
    "            for j in range(k):\n",
    "                # 计算数据点到质心的距离\n",
    "                # 计算距离是使用distMeas参数给出的距离公式,默认距离函数是distEclud\n",
    "                distJI = distMeas(centroids[j, :], dataMat[i, :])\n",
    "                # 如果距离比minDist(最小距离)还小,更新minDist(最小距离)和最小质心的index(索引)\n",
    "                if distJI < minDist:\n",
    "                    minDist = distJI\n",
    "                    minIndex = j\n",
    "            # 如果任一点的簇分配结果发生改变,则更新clusterChanged标志\n",
    "            if clusterAssment[i, 0] != minIndex: clusterChanged = True\n",
    "            # 更新簇分配结果为最小质心的index(索引),minDist(最小距离)的平方\n",
    "            clusterAssment[i, :] = minIndex, minDist ** 2\n",
    "        print(centroids)\n",
    "        # 遍历所有质心并更新它们的取值\n",
    "        for cent in range(k):\n",
    "            # 通过数据过滤来获得给定簇的所有点\n",
    "            ptsInClust = dataMat[nonzero(clusterAssment[:, 0].A == cent)[0]]\n",
    "            # 计算所有点的均值,axis=0表示沿矩阵的列方向进行均值计算\n",
    "            centroids[cent, :] = mean(ptsInClust, axis=0)\n",
    "    # 返回所有的类质心与点分配结果\n",
    "    return centroids, clusterAssment"
   ]
  },
  {
   "cell_type": "code",
   "execution_count": 37,
   "metadata": {},
   "outputs": [
    {
     "name": "stdout",
     "output_type": "stream",
     "text": [
      "[[-0.28769205  1.02671957]\n",
      " [-5.01763891  3.71677928]\n",
      " [ 1.7839668   2.67079341]\n",
      " [-2.73347346 -2.61897891]]\n",
      "[[ 0.76082343 -0.48470457]\n",
      " [-3.08441391  2.91810982]\n",
      " [ 2.95373358  2.32801413]\n",
      " [-2.55114175 -3.06036062]]\n",
      "[[ 2.60265739 -2.92536139]\n",
      " [-2.46154315  2.78737555]\n",
      " [ 2.80642645  2.73635527]\n",
      " [-3.38237045 -2.9473363 ]]\n",
      "[[ 2.80293085 -2.7315146 ]\n",
      " [-2.46154315  2.78737555]\n",
      " [ 2.6265299   3.10868015]\n",
      " [-3.38237045 -2.9473363 ]]\n"
     ]
    }
   ],
   "source": [
    "myCentroids, myClusterAssing=kMeans(datMat,4)"
   ]
  },
  {
   "cell_type": "code",
   "execution_count": 39,
   "metadata": {},
   "outputs": [],
   "source": [
    "def biKmeans(dataMat, k, distMeas=distEclud):\n",
    "    '''\n",
    "    在给定数据集,所期望的簇数目和距离计算方法的条件下,函数返回聚类结果\n",
    "    :param dataMat:\n",
    "    :param k:\n",
    "    :param distMeas:\n",
    "    :return:\n",
    "    '''\n",
    "    m, n = shape(dataMat)\n",
    "    # 创建一个矩阵来存储数据集中每个点的簇分配结果及平方误差\n",
    "    clusterAssment = mat(zeros((m, 2)))\n",
    "    # 计算整个数据集的质心,并使用一个列表来保留所有的质心\n",
    "    centroid0 = mean(dataMat, axis=0).tolist()[0]\n",
    "    centList = [centroid0]\n",
    "    # 遍历数据集中所有点来计算每个点到质心的误差值\n",
    "    for j in range(m):\n",
    "        clusterAssment[j, 1] = distMeas(mat(centroid0), dataMat[j, :]) ** 2\n",
    "    # 对簇不停的进行划分,直到得到想要的簇数目为止\n",
    "    while (len(centList) < k):\n",
    "        # 初始化最小SSE为无穷大,用于比较划分前后的SSE\n",
    "        lowestSSE = inf\n",
    "        # 通过考察簇列表中的值来获得当前簇的数目,遍历所有的簇来决定最佳的簇进行划分\n",
    "        for i in range(len(centList)):\n",
    "            # 对每一个簇,将该簇中的所有点堪称一个小的数据集\n",
    "            ptsInCurrCluster = dataMat[nonzero(clusterAssment[:, 0].A == i)[0], :]\n",
    "            # 将ptsInCurrCluster输入到函数kMeans中进行处理,k=2,\n",
    "            # kMeans会生成两个质心(簇),同时给出每个簇的误差值\n",
    "            centroidMat, splitClustAss = kMeans(ptsInCurrCluster, 2, distMeas)\n",
    "            # 将误差值与剩余数据集的误差之和作为本次划分的误差\n",
    "            sseSplit = sum(splitClustAss[:, 1])\n",
    "            sseNotSplit = sum(clusterAssment[nonzero(clusterAssment[:, 0].A != i)[0], 1])\n",
    "            print('sseSplit, and notSplit: ', sseSplit, sseNotSplit)\n",
    "            # 如果本次划分的SSE值最小,则本次划分被保存\n",
    "            if (sseSplit + sseNotSplit) < lowestSSE:\n",
    "                bestCentToSplit = i\n",
    "                bestNewCents = centroidMat\n",
    "                bestClustAss = splitClustAss.copy()\n",
    "                lowestSSE = sseSplit + sseNotSplit\n",
    "        # 找出最好的簇分配结果\n",
    "        # 调用kmeans函数并且指定簇数为2时,会得到两个编号分别为0和1的结果簇\n",
    "        bestClustAss[nonzero(bestClustAss[:, 0].A == 1)[0], 0] = len(centList)\n",
    "        # 更新为最佳质心\n",
    "        bestClustAss[nonzero(bestClustAss[:, 0].A == 0)[0], 0] = bestCentToSplit\n",
    "        print('the bestCentToSplit is: ', bestCentToSplit)\n",
    "        print('the len of bestClustAss is: ', len(bestClustAss))\n",
    "        # 更新质心列表\n",
    "        # 更新原质心list中的第i个质心为使用二分kMeans后bestNewCents的第一个质心\n",
    "        centList[bestCentToSplit] = bestNewCents[0, :].tolist()[0]\n",
    "        # 添加bestNewCents的第二个质心\n",
    "        centList.append(bestNewCents[1, :].tolist()[0])\n",
    "        # 重新分配最好簇下的数据(质心)以及SSE\n",
    "        clusterAssment[nonzero(clusterAssment[:, 0].A == bestCentToSplit)[0], :] = bestClustAss\n",
    "    return mat(centList), clusterAssment"
   ]
  },
  {
   "cell_type": "code",
   "execution_count": 42,
   "metadata": {},
   "outputs": [],
   "source": [
    "datMat2=mat(loadDataSet(\"data/testSet2.txt\"))"
   ]
  },
  {
   "cell_type": "code",
   "execution_count": 43,
   "metadata": {},
   "outputs": [
    {
     "name": "stdout",
     "output_type": "stream",
     "text": [
      "[[ 0.73801764 -3.90182477]\n",
      " [-3.17909616  2.24570669]]\n",
      "[[ 0.02053813 -2.21845543]\n",
      " [-0.26853357  3.36606168]]\n",
      "[[-0.32150057 -2.62473743]\n",
      " [-0.06953469  3.29844341]]\n",
      "[[-0.45965615 -2.7782156 ]\n",
      " [-0.00675605  3.22710297]]\n",
      "sseSplit, and notSplit:  453.0334895807502 0.0\n",
      "the bestCentToSplit is:  0\n",
      "the len of bestClustAss is:  60\n",
      "[[-0.69271283 -2.03740283]\n",
      " [-1.12786885 -1.07783217]]\n",
      "[[-0.36852161 -2.96793856]\n",
      " [-1.279867   -1.070709  ]]\n",
      "[[-0.15366667 -3.15354   ]\n",
      " [-1.3776246  -1.6522424 ]]\n",
      "[[-0.05200457 -3.16610557]\n",
      " [-1.41084317 -1.873139  ]]\n",
      "[[-7.11923077e-04 -3.21792031e+00]\n",
      " [-1.31198114e+00 -1.96162114e+00]]\n",
      "[[ 0.07973025 -3.24942808]\n",
      " [-1.26873575 -2.07139688]]\n",
      "[[ 0.19848727 -3.24320436]\n",
      " [-1.26405367 -2.209896  ]]\n",
      "[[ 0.2642961 -3.3057243]\n",
      " [-1.1836084 -2.2507069]]\n",
      "[[ 0.35496167 -3.36033556]\n",
      " [-1.12616164 -2.30193564]]\n",
      "sseSplit, and notSplit:  12.753263136887313 423.8762401366249\n",
      "[[1.1578265  1.67449565]\n",
      " [4.35054891 0.89655449]]\n",
      "[[-1.13874213  3.27627897]\n",
      " [ 3.89230711  3.057719  ]]\n",
      "[[-2.56687932  3.32870355]\n",
      " [ 3.1222835   3.1029245 ]]\n",
      "[[-2.94737575  3.3263781 ]\n",
      " [ 2.93386365  3.12782785]]\n",
      "sseSplit, and notSplit:  77.59224931775066 29.15724944412535\n",
      "the bestCentToSplit is:  1\n",
      "the len of bestClustAss is:  40\n"
     ]
    },
    {
     "data": {
      "text/plain": [
       "(matrix([[-0.45965615, -2.7782156 ],\n",
       "         [-2.94737575,  3.3263781 ],\n",
       "         [ 2.93386365,  3.12782785]]),\n",
       " matrix([[2.00000000e+00, 1.45461050e-01],\n",
       "         [1.00000000e+00, 6.80213825e-01],\n",
       "         [0.00000000e+00, 1.02184582e+00],\n",
       "         [2.00000000e+00, 1.34548760e+00],\n",
       "         [1.00000000e+00, 1.35376464e+00],\n",
       "         [0.00000000e+00, 3.87167519e+00],\n",
       "         [2.00000000e+00, 8.37259951e-01],\n",
       "         [1.00000000e+00, 2.20116272e-01],\n",
       "         [0.00000000e+00, 3.53809057e+00],\n",
       "         [2.00000000e+00, 7.44081160e+00],\n",
       "         [1.00000000e+00, 5.28070040e+00],\n",
       "         [0.00000000e+00, 2.56674394e-02],\n",
       "         [2.00000000e+00, 1.11946529e+00],\n",
       "         [1.00000000e+00, 1.67890884e-01],\n",
       "         [0.00000000e+00, 2.11734245e+00],\n",
       "         [2.00000000e+00, 1.49635209e+00],\n",
       "         [1.00000000e+00, 4.93628241e+00],\n",
       "         [0.00000000e+00, 9.76749869e-03],\n",
       "         [2.00000000e+00, 1.32453845e-01],\n",
       "         [1.00000000e+00, 6.39346045e-01],\n",
       "         [0.00000000e+00, 9.41791924e-01],\n",
       "         [2.00000000e+00, 1.72445523e+00],\n",
       "         [1.00000000e+00, 7.50682798e-01],\n",
       "         [0.00000000e+00, 1.48785604e-01],\n",
       "         [2.00000000e+00, 3.00429548e+00],\n",
       "         [1.00000000e+00, 5.15437527e+00],\n",
       "         [0.00000000e+00, 1.80316434e+00],\n",
       "         [2.00000000e+00, 2.74825782e+00],\n",
       "         [1.00000000e+00, 4.66860313e-01],\n",
       "         [0.00000000e+00, 1.28807718e+00],\n",
       "         [2.00000000e+00, 1.76804356e+00],\n",
       "         [1.00000000e+00, 3.54002368e+00],\n",
       "         [0.00000000e+00, 2.12516750e+00],\n",
       "         [2.00000000e+00, 1.14812052e+00],\n",
       "         [1.00000000e+00, 1.78247878e+00],\n",
       "         [0.00000000e+00, 8.79445646e-01],\n",
       "         [2.00000000e+00, 3.23315472e+00],\n",
       "         [1.00000000e+00, 7.43934371e-01],\n",
       "         [0.00000000e+00, 2.36276631e+00],\n",
       "         [2.00000000e+00, 2.59370616e-01],\n",
       "         [1.00000000e+00, 1.82015977e+00],\n",
       "         [0.00000000e+00, 2.10599050e+00],\n",
       "         [2.00000000e+00, 2.94567602e+00],\n",
       "         [1.00000000e+00, 2.49952822e+00],\n",
       "         [0.00000000e+00, 1.54957269e+00],\n",
       "         [2.00000000e+00, 9.45169633e-01],\n",
       "         [1.00000000e+00, 2.91966903e+00],\n",
       "         [0.00000000e+00, 1.13851139e+00],\n",
       "         [2.00000000e+00, 5.09476462e+00],\n",
       "         [1.00000000e+00, 1.64971118e+00],\n",
       "         [0.00000000e+00, 1.98934951e-01],\n",
       "         [2.00000000e+00, 1.50301593e+00],\n",
       "         [1.00000000e+00, 2.13359760e-01],\n",
       "         [0.00000000e+00, 2.16005416e+00],\n",
       "         [2.00000000e+00, 2.63462894e+00],\n",
       "         [1.00000000e+00, 7.60898177e-02],\n",
       "         [0.00000000e+00, 2.60198288e-01],\n",
       "         [2.00000000e+00, 3.05416591e-03],\n",
       "         [1.00000000e+00, 3.16776316e+00],\n",
       "         [0.00000000e+00, 1.61040000e+00]]))"
      ]
     },
     "execution_count": 43,
     "metadata": {},
     "output_type": "execute_result"
    }
   ],
   "source": [
    "biKmeans(datMat2,3)"
   ]
  },
  {
   "cell_type": "code",
   "execution_count": 44,
   "metadata": {},
   "outputs": [],
   "source": [
    "def distSLC(vecA, vecB):\n",
    "    '''\n",
    "    返回地球表面两点间的距离,单位是英里\n",
    "    给定两个点的经纬度,可以使用球面余弦定理来计算亮点的距离\n",
    "    :param vecA:\n",
    "    :param vecB:\n",
    "    :return:\n",
    "    '''\n",
    "    # 经度和维度用角度作为单位,但是sin()和cos()以弧度为输入.\n",
    "    # 可以将江都除以180度然后再诚意圆周率pi转换为弧度\n",
    "    a = sin(vecA[0, 1] * pi / 180) * sin(vecB[0, 1] * pi / 180)\n",
    "    b = cos(vecA[0, 1] * pi / 180) * cos(vecB[0, 1] * pi / 180) * \\\n",
    "        cos(pi * (vecB[0, 0] - vecA[0, 0]) / 180)\n",
    "    return arccos(a + b) * 6371.0"
   ]
  },
  {
   "cell_type": "code",
   "execution_count": 45,
   "metadata": {},
   "outputs": [],
   "source": [
    "def clusterClubs(fileName, imgName, numClust=5):\n",
    "    '''\n",
    "    将文本文件的解析,聚类以及画图都封装在一起\n",
    "    :param fileName: 文本数据路径\n",
    "    :param imgName: 图片路径\n",
    "    :param numClust: 希望得到的簇数目\n",
    "    :return:\n",
    "    '''\n",
    "    # 创建一个空列表\n",
    "    datList = []\n",
    "    # 打开文本文件获取第4列和第5列,这两列分别对应维度和经度,然后将这些值封装到datList\n",
    "    for line in open(fileName).readlines():\n",
    "        lineArr = line.split('\\t')\n",
    "        datList.append([float(lineArr[4]), float(lineArr[3])])\n",
    "    datMat = mat(datList)\n",
    "    # 调用biKmeans并使用distSLC函数作为聚类中使用的距离计算方式\n",
    "    myCentroids, clustAssing = biKmeans(datMat, numClust, distMeas=distSLC)\n",
    "    # 创建一幅图和一个举行,使用该矩形来决定绘制图的哪一部分\n",
    "    fig = plt.figure()\n",
    "    rect = [0.1, 0.1, 0.8, 0.8]\n",
    "    # 构建一个标记形状的列表用于绘制散点图\n",
    "    scatterMarkers = ['s', 'o', '^', '8', 'p', 'd', 'v', 'h', '>', '<']\n",
    "    axprops = dict(xticks=[], yticks=[])\n",
    "    ax0 = fig.add_axes(rect, label='ax0', **axprops)\n",
    "    # 使用imread函数基于一幅图像来创建矩阵\n",
    "    imgP = plt.imread(imgName)\n",
    "    # 使用imshow绘制该矩阵\n",
    "    ax0.imshow(imgP)\n",
    "    # 再同一幅图上绘制一张新图,允许使用两套坐标系统并不做任何缩放或偏移\n",
    "    ax1 = fig.add_axes(rect, label='ax1', frameon=False)\n",
    "    # 遍历每一个簇并将它们一一画出来,标记类型从前面创建的scatterMarkers列表中得到\n",
    "    for i in range(numClust):\n",
    "        ptsInCurrCluster = datMat[nonzero(clustAssing[:, 0].A == i)[0], :]\n",
    "        # 使用索引i % len(scatterMarkers)来选择标记形状,这意味这当有更多簇时,可以循环使用这标记\n",
    "        markerStyle = scatterMarkers[i % len(scatterMarkers)]\n",
    "        # 使用十字标记来表示簇中心并在图中显示\n",
    "        ax1.scatter(ptsInCurrCluster[:, 0].flatten().A[0], ptsInCurrCluster[:, 1].flatten().A[0], marker=markerStyle,\n",
    "                    s=90)\n",
    "    ax1.scatter(myCentroids[:, 0].flatten().A[0], myCentroids[:, 1].flatten().A[0], marker='+', s=300)\n",
    "    plt.show()"
   ]
  },
  {
   "cell_type": "code",
   "execution_count": null,
   "metadata": {},
   "outputs": [],
   "source": []
  }
 ],
 "metadata": {
  "kernelspec": {
   "display_name": "Python 3",
   "language": "python",
   "name": "python3"
  },
  "language_info": {
   "codemirror_mode": {
    "name": "ipython",
    "version": 3
   },
   "file_extension": ".py",
   "mimetype": "text/x-python",
   "name": "python",
   "nbconvert_exporter": "python",
   "pygments_lexer": "ipython3",
   "version": "3.7.6"
  }
 },
 "nbformat": 4,
 "nbformat_minor": 4
}
