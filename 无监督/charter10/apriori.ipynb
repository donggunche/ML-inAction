{
 "cells": [
  {
   "cell_type": "code",
   "execution_count": 1,
   "metadata": {},
   "outputs": [],
   "source": [
    "from numpy import *"
   ]
  },
  {
   "cell_type": "code",
   "execution_count": 2,
   "metadata": {},
   "outputs": [],
   "source": [
    "def loadDataSet():\n",
    "\n",
    "    return [[1, 3, 4], [2, 3, 5], [1, 2, 3, 5], [2, 5]]"
   ]
  },
  {
   "cell_type": "code",
   "execution_count": 3,
   "metadata": {},
   "outputs": [],
   "source": [
    "def createC1(dataSet):\n",
    "\n",
    "    \"\"\"createC1（创建集合 C1）\n",
    "\n",
    "\n",
    "\n",
    "    Args:\n",
    "\n",
    "        dataSet 原始数据集\n",
    "\n",
    "    Returns:\n",
    "\n",
    "        frozenset 返回一个 frozenset 格式的 list\n",
    "\n",
    "    \"\"\"\n",
    "\n",
    "\n",
    "\n",
    "    C1 = []\n",
    "\n",
    "    for transaction in dataSet:\n",
    "\n",
    "        for item in transaction:\n",
    "\n",
    "            if not [item] in C1:\n",
    "\n",
    "                # 遍历所有的元素，如果不在 C1 出现过，那么就 append\n",
    "\n",
    "                C1.append([item])\n",
    "\n",
    "    # 对数组进行 `从小到大` 的排序\n",
    "\n",
    "    # print 'sort 前=', C1\n",
    "\n",
    "    C1.sort()\n",
    "\n",
    "    # frozenset 表示冻结的 set 集合，元素无改变；可以把它当字典的 key 来使用\n",
    "\n",
    "    # print 'sort 后=', C1\n",
    "\n",
    "    # print 'frozenset=', map(frozenset, C1)\n",
    "\n",
    "    return map(frozenset, C1)"
   ]
  },
  {
   "cell_type": "code",
   "execution_count": 39,
   "metadata": {},
   "outputs": [],
   "source": [
    "def scanD(D, Ck, minSupport):\n",
    "    \"\"\"scanD（计算候选数据集 CK 在数据集 D 中的支持度，并返回支持度大于最小支持度 minSupport 的数据）\n",
    "\n",
    "\n",
    "\n",
    "    Args:\n",
    "\n",
    "        D 数据集\n",
    "\n",
    "        Ck 候选项集列表\n",
    "\n",
    "        minSupport 最小支持度\n",
    "\n",
    "    Returns:\n",
    "\n",
    "        retList 支持度大于 minSupport 的集合\n",
    "\n",
    "        supportData 候选项集支持度数据\n",
    "\n",
    "    \"\"\"\n",
    "\n",
    "\n",
    "\n",
    "    # ssCnt 临时存放选数据集 Ck 的频率. 例如: a->10, b->5, c->8    \n",
    "\n",
    "    ssCnt = {}\n",
    "\n",
    "    for tid in D:\n",
    "\n",
    "        for can in Ck:\n",
    "\n",
    "            # s.issubset(t)  测试是否 s 中的每一个元素都在 t 中\n",
    "\n",
    "            if can.issubset(tid):\n",
    "\n",
    "                if can not in ssCnt:\n",
    "\n",
    "                    ssCnt[can] = 1\n",
    "\n",
    "                else:\n",
    "\n",
    "                    ssCnt[can] += 1\n",
    "\n",
    "    numItems = float(len(D)) # 数据集 D 的数量\n",
    "\n",
    "    retList = []\n",
    "\n",
    "    supportData = {}\n",
    "    print(ssCnt)\n",
    "\n",
    "    for key in ssCnt:\n",
    "\n",
    "        # 支持度 = 候选项（key）出现的次数 / 所有数据集的数量\n",
    "\n",
    "        support = ssCnt[key]/numItems\n",
    "\n",
    "        if support >= minSupport:\n",
    "\n",
    "            # 在 retList 的首位插入元素，只存储支持度满足频繁项集的值\n",
    "\n",
    "            retList.insert(0, key)\n",
    "\n",
    "        # 存储所有的候选项（key）和对应的支持度（support）\n",
    "\n",
    "        supportData[key] = support\n",
    "\n",
    "    return retList, supportData\n",
    "\n"
   ]
  },
  {
   "cell_type": "code",
   "execution_count": 60,
   "metadata": {},
   "outputs": [],
   "source": [
    "dataSet=loadDataSet()"
   ]
  },
  {
   "cell_type": "code",
   "execution_count": 42,
   "metadata": {},
   "outputs": [],
   "source": [
    "C1=createC1(dataSet)"
   ]
  },
  {
   "cell_type": "code",
   "execution_count": 43,
   "metadata": {},
   "outputs": [],
   "source": [
    "D=map(set,dataSet)"
   ]
  },
  {
   "cell_type": "code",
   "execution_count": 44,
   "metadata": {},
   "outputs": [
    {
     "name": "stdout",
     "output_type": "stream",
     "text": [
      "{frozenset({1}): 2, frozenset({3}): 3, frozenset({4}): 1, frozenset({2}): 3, frozenset({5}): 3}\n"
     ]
    }
   ],
   "source": [
    "L1,suppData0=scanD(list(D),list(C1),0.5)"
   ]
  },
  {
   "cell_type": "code",
   "execution_count": 45,
   "metadata": {},
   "outputs": [
    {
     "data": {
      "text/plain": [
       "[frozenset({5}), frozenset({2}), frozenset({3}), frozenset({1})]"
      ]
     },
     "execution_count": 45,
     "metadata": {},
     "output_type": "execute_result"
    }
   ],
   "source": [
    "L1"
   ]
  },
  {
   "cell_type": "code",
   "execution_count": 46,
   "metadata": {},
   "outputs": [
    {
     "data": {
      "text/plain": [
       "{frozenset({1}): 0.5,\n",
       " frozenset({3}): 0.75,\n",
       " frozenset({4}): 0.25,\n",
       " frozenset({2}): 0.75,\n",
       " frozenset({5}): 0.75}"
      ]
     },
     "execution_count": 46,
     "metadata": {},
     "output_type": "execute_result"
    }
   ],
   "source": [
    "suppData0"
   ]
  },
  {
   "cell_type": "code",
   "execution_count": 74,
   "metadata": {},
   "outputs": [],
   "source": [
    "def aprioriGen(Lk, k):\n",
    "\n",
    "    \"\"\"aprioriGen（输入频繁项集列表 Lk 与返回的元素个数 k，然后输出候选项集 Ck。\n",
    "\n",
    "       例如: 以 {0},{1},{2} 为输入且 k = 2 则输出 {0,1}, {0,2}, {1,2}. 以 {0,1},{0,2},{1,2} 为输入且 k = 3 则输出 {0,1,2}\n",
    "\n",
    "       仅需要计算一次，不需要将所有的结果计算出来，然后进行去重操作\n",
    "\n",
    "       这是一个更高效的算法）\n",
    "\n",
    "\n",
    "\n",
    "    Args:\n",
    "\n",
    "        Lk 频繁项集列表\n",
    "\n",
    "        k 返回的项集元素个数（若元素的前 k-2 相同，就进行合并）\n",
    "\n",
    "    Returns:\n",
    "\n",
    "        retList 元素两两合并的数据集\n",
    "\n",
    "    \"\"\"\n",
    "\n",
    "    \n",
    "\n",
    "    retList = []\n",
    "\n",
    "    lenLk = len(Lk)\n",
    "\n",
    "    for i in range(lenLk):\n",
    "\n",
    "        for j in range(i+1, lenLk):\n",
    "\n",
    "            L1 = list(Lk[i])[: k-2]\n",
    "\n",
    "            L2 = list(Lk[j])[: k-2]\n",
    "\n",
    "            # print '-----i=', i, k-2, Lk, Lk[i], list(Lk[i])[: k-2]\n",
    "\n",
    "            # print '-----j=', j, k-2, Lk, Lk[j], list(Lk[j])[: k-2]\n",
    "\n",
    "            L1.sort()\n",
    "\n",
    "            L2.sort()\n",
    "\n",
    "            # 第一次 L1,L2 为空，元素直接进行合并，返回元素两两合并的数据集\n",
    "\n",
    "            # if first k-2 elements are equal\n",
    "\n",
    "            if L1 == L2:\n",
    "\n",
    "                # set union\n",
    "\n",
    "                # print 'union=', Lk[i] | Lk[j], Lk[i], Lk[j]\n",
    "\n",
    "                retList.append(Lk[i] | Lk[j])\n",
    "\n",
    "    return retList"
   ]
  },
  {
   "cell_type": "code",
   "execution_count": 83,
   "metadata": {},
   "outputs": [],
   "source": [
    "def apriori(dataSet, minSupport=0.5):\n",
    "\n",
    "    \"\"\"apriori（首先构建集合 C1，然后扫描数据集来判断这些只有一个元素的项集是否满足最小支持度的要求。那么满足最小支持度要求的项集构成集合 L1。然后 L1 中的元素相互组合成 C2，C2 再进一步过滤变成 L2，然后以此类推，知道 CN 的长度为 0 时结束，即可找出所有频繁项集的支持度。）\n",
    "\n",
    "\n",
    "\n",
    "    Args:\n",
    "\n",
    "        dataSet 原始数据集\n",
    "\n",
    "        minSupport 支持度的阈值\n",
    "\n",
    "    Returns:\n",
    "\n",
    "        L 频繁项集的全集\n",
    "\n",
    "        supportData 所有元素和支持度的全集\n",
    "\n",
    "    \"\"\"\n",
    "\n",
    "    # C1 即对 dataSet 进行去重，排序，放入 list 中，然后转换所有的元素为 frozenset\n",
    "\n",
    "    C1 = createC1(dataSet)\n",
    "\n",
    "    # print 'C1: ', C1\n",
    "\n",
    "    # 对每一行进行 set 转换，然后存放到集合中\n",
    "\n",
    "    D = map(set, dataSet)\n",
    "\n",
    "    # print 'D=', D\n",
    "\n",
    "    # 计算候选数据集 C1 在数据集 D 中的支持度，并返回支持度大于 minSupport 的数据\n",
    "\n",
    "    L1, supportData = scanD(list(D), list(C1), minSupport)\n",
    "\n",
    "    # print \"L1=\", L1, \"\\n\", \"outcome: \", supportData\n",
    "\n",
    "\n",
    "\n",
    "    # L 加了一层 list, L 一共 2 层 list\n",
    "\n",
    "    L = [L1]\n",
    "\n",
    "    k = 2\n",
    "\n",
    "    # 判断 L 的第 k-2 项的数据长度是否 > 0。第一次执行时 L 为 [[frozenset([1]), frozenset([3]), frozenset([2]), frozenset([5])]]。L[k-2]=L[0]=[frozenset([1]), frozenset([3]), frozenset([2]), frozenset([5])]，最后面 k += 1\n",
    "\n",
    "    while (len(L[k-2]) > 0):\n",
    "\n",
    "        # print 'k=', k, L, L[k-2]\n",
    "\n",
    "        Ck = aprioriGen(L[k-2], k) # 例如: 以 {0},{1},{2} 为输入且 k = 2 则输出 {0,1}, {0,2}, {1,2}. 以 {0,1},{0,2},{1,2} 为输入且 k = 3 则输出 {0,1,2}\n",
    "\n",
    "        # print 'Ck', Ck\n",
    "\n",
    "\n",
    "        D = map(set, dataSet)\n",
    "        Lk, supK = scanD(list(D), Ck, minSupport) # 计算候选数据集 CK 在数据集 D 中的支持度，并返回支持度大于 minSupport 的数据\n",
    "\n",
    "        # 保存所有候选项集的支持度，如果字典没有，就追加元素，如果有，就更新元素\n",
    "\n",
    "        supportData.update(supK)\n",
    "\n",
    "        if len(Lk) == 0:\n",
    "\n",
    "            break\n",
    "\n",
    "        # Lk 表示满足频繁子项的集合，L 元素在增加，例如: \n",
    "\n",
    "        # l=[[set(1), set(2), set(3)]]\n",
    "\n",
    "        # l=[[set(1), set(2), set(3)], [set(1, 2), set(2, 3)]]\n",
    "\n",
    "        L.append(Lk)\n",
    "\n",
    "        k += 1\n",
    "\n",
    "        # print 'k=', k, len(L[k-2])\n",
    "\n",
    "    return L, supportData\n",
    "\n"
   ]
  },
  {
   "cell_type": "code",
   "execution_count": 102,
   "metadata": {},
   "outputs": [
    {
     "name": "stdout",
     "output_type": "stream",
     "text": [
      "{frozenset({1}): 2, frozenset({3}): 3, frozenset({4}): 1, frozenset({2}): 3, frozenset({5}): 3}\n",
      "{frozenset({1, 3}): 2, frozenset({2, 5}): 3, frozenset({3, 5}): 2, frozenset({2, 3}): 2, frozenset({1, 5}): 1, frozenset({1, 2}): 1}\n",
      "{frozenset({2, 3, 5}): 2}\n",
      "{}\n"
     ]
    }
   ],
   "source": [
    "L,suppData=apriori(dataSet,0.5)"
   ]
  },
  {
   "cell_type": "code",
   "execution_count": 100,
   "metadata": {},
   "outputs": [],
   "source": [
    "dataSet=loadDataSet()"
   ]
  },
  {
   "cell_type": "code",
   "execution_count": 80,
   "metadata": {},
   "outputs": [
    {
     "data": {
      "text/plain": [
       "[[1, 3, 4], [2, 3, 5], [1, 2, 3, 5], [2, 5]]"
      ]
     },
     "execution_count": 80,
     "metadata": {},
     "output_type": "execute_result"
    }
   ],
   "source": [
    "dataSet"
   ]
  },
  {
   "cell_type": "code",
   "execution_count": 95,
   "metadata": {},
   "outputs": [
    {
     "data": {
      "text/plain": [
       "[[frozenset({5}), frozenset({2}), frozenset({3})], [frozenset({2, 5})]]"
      ]
     },
     "execution_count": 95,
     "metadata": {},
     "output_type": "execute_result"
    }
   ],
   "source": [
    "L"
   ]
  },
  {
   "cell_type": "code",
   "execution_count": 94,
   "metadata": {},
   "outputs": [
    {
     "data": {
      "text/plain": [
       "{frozenset({1}): 0.5,\n",
       " frozenset({3}): 0.75,\n",
       " frozenset({4}): 0.25,\n",
       " frozenset({2}): 0.75,\n",
       " frozenset({5}): 0.75,\n",
       " frozenset({2, 5}): 0.75,\n",
       " frozenset({3, 5}): 0.5,\n",
       " frozenset({2, 3}): 0.5}"
      ]
     },
     "execution_count": 94,
     "metadata": {},
     "output_type": "execute_result"
    }
   ],
   "source": [
    "suppData"
   ]
  },
  {
   "cell_type": "code",
   "execution_count": 90,
   "metadata": {},
   "outputs": [],
   "source": [
    "def generateRules(L, supportData, minConf=0.7):\n",
    "\n",
    "    \"\"\"generateRules\n",
    "\n",
    "\n",
    "\n",
    "    Args:\n",
    "\n",
    "        L 频繁项集列表\n",
    "\n",
    "        supportData 频繁项集支持度的字典\n",
    "\n",
    "        minConf 最小置信度\n",
    "\n",
    "    Returns:\n",
    "\n",
    "        bigRuleList 可信度规则列表（关于 (A->B+置信度) 3个字段的组合）\n",
    "\n",
    "    \"\"\"\n",
    "\n",
    "    bigRuleList = []\n",
    "\n",
    "    # 假设 L = [[frozenset([1]), frozenset([3]), frozenset([2]), frozenset([5])], [frozenset([1, 3]), frozenset([2, 5]), frozenset([2, 3]), frozenset([3, 5])], [frozenset([2, 3, 5])]]\n",
    "\n",
    "    for i in range(1, len(L)):\n",
    "\n",
    "        # 获取频繁项集中每个组合的所有元素\n",
    "\n",
    "        for freqSet in L[i]:\n",
    "\n",
    "            # 假设：freqSet= frozenset([1, 3]), H1=[frozenset([1]), frozenset([3])]\n",
    "\n",
    "            # 组合总的元素并遍历子元素，并转化为 frozenset 集合，再存放到 list 列表中\n",
    "\n",
    "            H1 = [frozenset([item]) for item in freqSet]\n",
    "\n",
    "            # 2 个的组合，走 else, 2 个以上的组合，走 if\n",
    "\n",
    "            if (i > 1):\n",
    "\n",
    "                rulesFromConseq(freqSet, H1, supportData, bigRuleList, minConf)\n",
    "\n",
    "            else:\n",
    "\n",
    "                calcConf(freqSet, H1, supportData, bigRuleList, minConf)\n",
    "\n",
    "    return bigRuleList"
   ]
  },
  {
   "cell_type": "code",
   "execution_count": 92,
   "metadata": {},
   "outputs": [],
   "source": [
    "def calcConf(freqSet, H, supportData, brl, minConf=0.7):\n",
    "\n",
    "    \"\"\"calcConf（对两个元素的频繁项，计算可信度，例如： {1,2}/{1} 或者 {1,2}/{2} 看是否满足条件）\n",
    "\n",
    "\n",
    "\n",
    "    Args:\n",
    "\n",
    "        freqSet 频繁项集中的元素，例如: frozenset([1, 3])    \n",
    "\n",
    "        H 频繁项集中的元素的集合，例如: [frozenset([1]), frozenset([3])]\n",
    "\n",
    "        supportData 所有元素的支持度的字典\n",
    "\n",
    "        brl 关联规则列表的空数组\n",
    "\n",
    "        minConf 最小可信度\n",
    "\n",
    "    Returns:\n",
    "\n",
    "        prunedH 记录 可信度大于阈值的集合\n",
    "\n",
    "    \"\"\"\n",
    "\n",
    "    # 记录可信度大于最小可信度（minConf）的集合\n",
    "\n",
    "    prunedH = []\n",
    "\n",
    "    for conseq in H: # 假设 freqSet = frozenset([1, 3]), H = [frozenset([1]), frozenset([3])]，那么现在需要求出 frozenset([1]) -> frozenset([3]) 的可信度和 frozenset([3]) -> frozenset([1]) 的可信度\n",
    "\n",
    "\n",
    "\n",
    "        # print 'confData=', freqSet, H, conseq, freqSet-conseq\n",
    "\n",
    "        conf = supportData[freqSet]/supportData[freqSet-conseq] # 支持度定义: a -> b = support(a | b) / support(a). 假设  freqSet = frozenset([1, 3]), conseq = [frozenset([1])]，那么 frozenset([1]) 至 frozenset([3]) 的可信度为 = support(a | b) / support(a) = supportData[freqSet]/supportData[freqSet-conseq] = supportData[frozenset([1, 3])] / supportData[frozenset([1])]\n",
    "\n",
    "        if conf >= minConf:\n",
    "\n",
    "            # 只要买了 freqSet-conseq 集合，一定会买 conseq 集合（freqSet-conseq 集合和 conseq集合 是全集）\n",
    "\n",
    "            print (freqSet-conseq, '-->', conseq, 'conf:', conf)\n",
    "\n",
    "            brl.append((freqSet-conseq, conseq, conf))\n",
    "\n",
    "            prunedH.append(conseq)\n",
    "\n",
    "    return prunedH"
   ]
  },
  {
   "cell_type": "code",
   "execution_count": 93,
   "metadata": {},
   "outputs": [],
   "source": [
    "def rulesFromConseq(freqSet, H, supportData, brl, minConf=0.7):\n",
    "\n",
    "    \"\"\"rulesFromConseq\n",
    "\n",
    "\n",
    "\n",
    "    Args:\n",
    "\n",
    "        freqSet 频繁项集中的元素，例如: frozenset([2, 3, 5])    \n",
    "\n",
    "        H 频繁项集中的元素的集合，例如: [frozenset([2]), frozenset([3]), frozenset([5])]\n",
    "\n",
    "        supportData 所有元素的支持度的字典\n",
    "\n",
    "        brl 关联规则列表的数组\n",
    "\n",
    "        minConf 最小可信度\n",
    "\n",
    "    \"\"\"\n",
    "\n",
    "    # H[0] 是 freqSet 的元素组合的第一个元素，并且 H 中所有元素的长度都一样，长度由 aprioriGen(H, m+1) 这里的 m + 1 来控制\n",
    "\n",
    "    # 该函数递归时，H[0] 的长度从 1 开始增长 1 2 3 ...\n",
    "\n",
    "    # 假设 freqSet = frozenset([2, 3, 5]), H = [frozenset([2]), frozenset([3]), frozenset([5])]\n",
    "\n",
    "    # 那么 m = len(H[0]) 的递归的值依次为 1 2\n",
    "\n",
    "    # 在 m = 2 时, 跳出该递归。假设再递归一次，那么 H[0] = frozenset([2, 3, 5])，freqSet = frozenset([2, 3, 5]) ，没必要再计算 freqSet 与 H[0] 的关联规则了。\n",
    "\n",
    "    m = len(H[0])\n",
    "\n",
    "    if (len(freqSet) > (m + 1)):\n",
    "\n",
    "        # print 'freqSet******************', len(freqSet), m + 1, freqSet, H, H[0]\n",
    "\n",
    "        # 生成 m+1 个长度的所有可能的 H 中的组合，假设 H = [frozenset([2]), frozenset([3]), frozenset([5])]\n",
    "\n",
    "        # 第一次递归调用时生成 [frozenset([2, 3]), frozenset([2, 5]), frozenset([3, 5])]\n",
    "\n",
    "        # 第二次 。。。没有第二次，递归条件判断时已经退出了\n",
    "\n",
    "        Hmp1 = aprioriGen(H, m+1)\n",
    "\n",
    "        # 返回可信度大于最小可信度的集合\n",
    "\n",
    "        Hmp1 = calcConf(freqSet, Hmp1, supportData, brl, minConf)\n",
    "\n",
    "        print ('Hmp1=', Hmp1)\n",
    "\n",
    "        print ('len(Hmp1)=', len(Hmp1), 'len(freqSet)=', len(freqSet))\n",
    "\n",
    "        # 计算可信度后，还有数据大于最小可信度的话，那么继续递归调用，否则跳出递归\n",
    "\n",
    "        if (len(Hmp1) > 1):\n",
    "\n",
    "            # print '----------------------', Hmp1\n",
    "\n",
    "            # print len(freqSet),  len(Hmp1[0]) + 1\n",
    "\n",
    "            rulesFromConseq(freqSet, Hmp1, supportData, brl, minConf)"
   ]
  },
  {
   "cell_type": "code",
   "execution_count": 103,
   "metadata": {},
   "outputs": [
    {
     "name": "stdout",
     "output_type": "stream",
     "text": [
      "frozenset({3}) --> frozenset({2}) conf: 0.6666666666666666\n",
      "frozenset({2}) --> frozenset({3}) conf: 0.6666666666666666\n",
      "frozenset({5}) --> frozenset({3}) conf: 0.6666666666666666\n",
      "frozenset({3}) --> frozenset({5}) conf: 0.6666666666666666\n",
      "frozenset({5}) --> frozenset({2}) conf: 1.0\n",
      "frozenset({2}) --> frozenset({5}) conf: 1.0\n",
      "frozenset({3}) --> frozenset({1}) conf: 0.6666666666666666\n",
      "frozenset({1}) --> frozenset({3}) conf: 1.0\n",
      "frozenset({5}) --> frozenset({2, 3}) conf: 0.6666666666666666\n",
      "frozenset({3}) --> frozenset({2, 5}) conf: 0.6666666666666666\n",
      "frozenset({2}) --> frozenset({3, 5}) conf: 0.6666666666666666\n",
      "Hmp1= [frozenset({2, 3}), frozenset({2, 5}), frozenset({3, 5})]\n",
      "len(Hmp1)= 3 len(freqSet)= 3\n"
     ]
    }
   ],
   "source": [
    "rules=generateRules(L,suppData,0.5)"
   ]
  },
  {
   "cell_type": "code",
   "execution_count": 105,
   "metadata": {},
   "outputs": [
    {
     "name": "stdout",
     "output_type": "stream",
     "text": [
      "frozenset({5}) --> frozenset({2}) conf: 1.0\n",
      "frozenset({2}) --> frozenset({5}) conf: 1.0\n",
      "frozenset({1}) --> frozenset({3}) conf: 1.0\n",
      "Hmp1= []\n",
      "len(Hmp1)= 0 len(freqSet)= 3\n"
     ]
    }
   ],
   "source": [
    "rules=generateRules(L,suppData,0.7)"
   ]
  },
  {
   "cell_type": "code",
   "execution_count": null,
   "metadata": {},
   "outputs": [],
   "source": []
  }
 ],
 "metadata": {
  "kernelspec": {
   "display_name": "Python 3",
   "language": "python",
   "name": "python3"
  },
  "language_info": {
   "codemirror_mode": {
    "name": "ipython",
    "version": 3
   },
   "file_extension": ".py",
   "mimetype": "text/x-python",
   "name": "python",
   "nbconvert_exporter": "python",
   "pygments_lexer": "ipython3",
   "version": "3.7.6"
  }
 },
 "nbformat": 4,
 "nbformat_minor": 4
}
