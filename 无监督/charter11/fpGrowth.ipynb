{
 "cells": [
  {
   "cell_type": "code",
   "execution_count": 1,
   "metadata": {},
   "outputs": [],
   "source": [
    "class treeNode:\n",
    "    def __init__(self, nameValue, numOccur, parentNode):\n",
    "        self.name = nameValue\n",
    "        self.count = numOccur\n",
    "        self.nodeLink = None\n",
    "        # needs to be updated\n",
    "        self.parent = parentNode\n",
    "        self.children = {}\n",
    "\n",
    "    def inc(self, numOccur):\n",
    "        \"\"\"inc(对count变量增加给定值)\n",
    "        \"\"\"\n",
    "        self.count += numOccur\n",
    "\n",
    "    def disp(self, ind=1):\n",
    "        \"\"\"disp(用于将树以文本形式显示)\n",
    "\n",
    "        \"\"\"\n",
    "        print('  '*ind, self.name, ' ', self.count)\n",
    "        for child in self.children.values():\n",
    "            child.disp(ind+1)"
   ]
  },
  {
   "cell_type": "code",
   "execution_count": 3,
   "metadata": {},
   "outputs": [],
   "source": [
    "rootNode=treeNode('pyramid',9,None)"
   ]
  },
  {
   "cell_type": "code",
   "execution_count": 4,
   "metadata": {},
   "outputs": [],
   "source": [
    "rootNode.children['eye']=treeNode('eye',13,None)"
   ]
  },
  {
   "cell_type": "code",
   "execution_count": 5,
   "metadata": {},
   "outputs": [
    {
     "name": "stdout",
     "output_type": "stream",
     "text": [
      "   pyramid   9\n",
      "     eye   13\n"
     ]
    }
   ],
   "source": [
    "rootNode.disp()"
   ]
  },
  {
   "cell_type": "code",
   "execution_count": 6,
   "metadata": {},
   "outputs": [],
   "source": [
    "rootNode.children['phoenix']=treeNode('phoenix',3,None)"
   ]
  },
  {
   "cell_type": "code",
   "execution_count": 7,
   "metadata": {},
   "outputs": [
    {
     "name": "stdout",
     "output_type": "stream",
     "text": [
      "   pyramid   9\n",
      "     eye   13\n",
      "     phoenix   3\n"
     ]
    }
   ],
   "source": [
    "rootNode.disp()"
   ]
  },
  {
   "cell_type": "code",
   "execution_count": 8,
   "metadata": {},
   "outputs": [],
   "source": [
    "def createTree(dataSet, minSup=1):\n",
    "    \"\"\"createTree(生成FP-tree)\n",
    "\n",
    "    Args:\n",
    "        dataSet  dist{行：出现次数}的样本数据\n",
    "        minSup   最小的支持度\n",
    "    Returns:\n",
    "        retTree  FP-tree\n",
    "        headerTable 满足minSup {所有的元素+(value, treeNode)}\n",
    "    \"\"\"\n",
    "    # 支持度>=minSup的dist{所有元素：出现的次数}\n",
    "    headerTable = {}\n",
    "    # 循环 dist{行：出现次数}的样本数据\n",
    "    for trans in dataSet:\n",
    "        # 对所有的行进行循环，得到行里面的所有元素\n",
    "        # 统计每一行中，每个元素出现的总次数\n",
    "        for item in trans:\n",
    "            # 例如： {'ababa': 3}  count(a)=3+3+3=9   count(b)=3+3=6\n",
    "            headerTable[item] = headerTable.get(item, 0) + dataSet[trans]\n",
    "    # 删除 headerTable中，元素次数<最小支持度的元素\n",
    "    for k in list(headerTable.keys()):  # python3中.keys()返回的是迭代器不是list,不能在遍历时对其改变。\n",
    "        if headerTable[k] < minSup:\n",
    "            del(headerTable[k])\n",
    "\n",
    "    # 满足minSup: set(各元素集合)\n",
    "    freqItemSet = set(headerTable.keys())\n",
    "    # 如果不存在，直接返回None\n",
    "    if len(freqItemSet) == 0:\n",
    "        return None, None\n",
    "    for k in headerTable:\n",
    "        # 格式化： dist{元素key: [元素次数, None]}\n",
    "        headerTable[k] = [headerTable[k], None]\n",
    "\n",
    "    # create tree\n",
    "    retTree = treeNode('Null Set', 1, None)\n",
    "    # 循环 dist{行：出现次数}的样本数据\n",
    "    for tranSet, count in dataSet.items():\n",
    "        # print('tranSet, count=', tranSet, count)\n",
    "        # localD = dist{元素key: 元素总出现次数}\n",
    "        localD = {}\n",
    "        for item in tranSet:\n",
    "            # 判断是否在满足minSup的集合中\n",
    "            if item in freqItemSet:\n",
    "                # print('headerTable[item][0]=', headerTable[item][0], headerTable[item])\n",
    "                localD[item] = headerTable[item][0]\n",
    "        # print('localD=', localD)\n",
    "        # 对每一行的key 进行排序，然后开始往树添加枝丫，直到丰满\n",
    "        # 第二次，如果在同一个排名下出现，那么就对该枝丫的值进行追加，继续递归调用！\n",
    "        if len(localD) > 0:\n",
    "            # p=key,value; 所以是通过value值的大小，进行从大到小进行排序\n",
    "            # orderedItems 表示取出元组的key值，也就是字母本身，但是字母本身是大到小的顺序\n",
    "            orderedItems = [v[0] for v in sorted(localD.items(), key=lambda p: p[1], reverse=True)]\n",
    "            # print 'orderedItems=', orderedItems, 'headerTable', headerTable, '\\n\\n\\n'\n",
    "            # 填充树，通过有序的orderedItems的第一位，进行顺序填充 第一层的子节点。\n",
    "            updateTree(orderedItems, retTree, headerTable, count)\n",
    "\n",
    "    return retTree, headerTable"
   ]
  },
  {
   "cell_type": "code",
   "execution_count": 9,
   "metadata": {},
   "outputs": [],
   "source": [
    "def updateHeader(nodeToTest, targetNode):\n",
    "    \"\"\"updateHeader(更新头指针，建立相同元素之间的关系，例如： 左边的r指向右边的r值，就是后出现的相同元素 指向 已经出现的元素)\n",
    "\n",
    "    从头指针的nodeLink开始，一直沿着nodeLink直到到达链表末尾。这就是链表。\n",
    "    性能：如果链表很长可能会遇到迭代调用的次数限制。\n",
    "\n",
    "    Args:\n",
    "        nodeToTest  满足minSup {所有的元素+(value, treeNode)}\n",
    "        targetNode  Tree对象的子节点\n",
    "    \"\"\"\n",
    "    # 建立相同元素之间的关系，例如： 左边的r指向右边的r值\n",
    "    while (nodeToTest.nodeLink is not None):\n",
    "        nodeToTest = nodeToTest.nodeLink\n",
    "    nodeToTest.nodeLink = targetNode\n",
    "\n",
    "\n",
    "def updateTree(items, inTree, headerTable, count):\n",
    "    \"\"\"updateTree(更新FP-tree，第二次遍历)\n",
    "\n",
    "    # 针对每一行的数据\n",
    "    # 最大的key,  添加\n",
    "    Args:\n",
    "        items       满足minSup 排序后的元素key的数组（大到小的排序）\n",
    "        inTree      空的Tree对象\n",
    "        headerTable 满足minSup {所有的元素+(value, treeNode)}\n",
    "        count       原数据集中每一组Kay出现的次数\n",
    "    \"\"\"\n",
    "    # 取出 元素 出现次数最高的\n",
    "    # 如果该元素在 inTree.children 这个字典中，就进行累加\n",
    "    # 如果该元素不存在 就 inTree.children 字典中新增key，value为初始化的 treeNode 对象\n",
    "    if items[0] in inTree.children:\n",
    "        # 更新 最大元素，对应的 treeNode 对象的count进行叠加\n",
    "        inTree.children[items[0]].inc(count)\n",
    "    else:\n",
    "        # 如果不存在子节点，我们为该inTree添加子节点\n",
    "        inTree.children[items[0]] = treeNode(items[0], count, inTree)\n",
    "        # 如果满足minSup的dist字典的value值第二位为null， 我们就设置该元素为 本节点对应的tree节点\n",
    "        # 如果元素第二位不为null，我们就更新header节点\n",
    "        if headerTable[items[0]][1] is None:\n",
    "            # headerTable只记录第一次节点出现的位置\n",
    "            headerTable[items[0]][1] = inTree.children[items[0]]\n",
    "        else:\n",
    "            # 本质上是修改headerTable的key对应的Tree，的nodeLink值\n",
    "            updateHeader(headerTable[items[0]][1], inTree.children[items[0]])\n",
    "    if len(items) > 1:\n",
    "        # 递归的调用，在items[0]的基础上，添加item0[1]做子节点， count只要循环的进行累计加和而已，统计出节点的最后的统计值。\n",
    "        updateTree(items[1:], inTree.children[items[0]], headerTable, count)"
   ]
  },
  {
   "cell_type": "code",
   "execution_count": 10,
   "metadata": {},
   "outputs": [],
   "source": [
    "def loadSimpDat():\n",
    "    simpDat = [['r', 'z', 'h', 'j', 'p'],\n",
    "               ['z', 'y', 'x', 'w', 'v', 'u', 't', 's'],\n",
    "               ['z'],\n",
    "               ['r', 'x', 'n', 'o', 's'],\n",
    "            #    ['r', 'x', 'n', 'o', 's'],\n",
    "               ['y', 'r', 'x', 'z', 'q', 't', 'p'],\n",
    "               ['y', 'z', 'x', 'e', 'q', 's', 't', 'm']]\n",
    "    return simpDat\n",
    "\n",
    "\n",
    "def createInitSet(dataSet):\n",
    "    retDict = {}\n",
    "    for trans in dataSet:\n",
    "        if frozenset(trans) not in retDict.keys():\n",
    "            retDict[frozenset(trans)] = 1\n",
    "        else:\n",
    "            retDict[frozenset(trans)] += 1\n",
    "    return retDict"
   ]
  },
  {
   "cell_type": "code",
   "execution_count": 11,
   "metadata": {},
   "outputs": [],
   "source": [
    "simpDat=loadSimpDat()"
   ]
  },
  {
   "cell_type": "code",
   "execution_count": 15,
   "metadata": {},
   "outputs": [
    {
     "data": {
      "text/plain": [
       "[['r', 'z', 'h', 'j', 'p'],\n",
       " ['z', 'y', 'x', 'w', 'v', 'u', 't', 's'],\n",
       " ['z'],\n",
       " ['r', 'x', 'n', 'o', 's'],\n",
       " ['y', 'r', 'x', 'z', 'q', 't', 'p'],\n",
       " ['y', 'z', 'x', 'e', 'q', 's', 't', 'm']]"
      ]
     },
     "execution_count": 15,
     "metadata": {},
     "output_type": "execute_result"
    }
   ],
   "source": [
    "simpDat"
   ]
  },
  {
   "cell_type": "code",
   "execution_count": 13,
   "metadata": {},
   "outputs": [],
   "source": [
    "initSet=createInitSet(simpDat)"
   ]
  },
  {
   "cell_type": "code",
   "execution_count": 35,
   "metadata": {},
   "outputs": [
    {
     "data": {
      "text/plain": [
       "{frozenset({'h', 'j', 'p', 'r', 'z'}): 1,\n",
       " frozenset({'s', 't', 'u', 'v', 'w', 'x', 'y', 'z'}): 1,\n",
       " frozenset({'z'}): 1,\n",
       " frozenset({'n', 'o', 'r', 's', 'x'}): 1,\n",
       " frozenset({'p', 'q', 'r', 't', 'x', 'y', 'z'}): 1,\n",
       " frozenset({'e', 'm', 'q', 's', 't', 'x', 'y', 'z'}): 1}"
      ]
     },
     "execution_count": 35,
     "metadata": {},
     "output_type": "execute_result"
    }
   ],
   "source": [
    "initSet"
   ]
  },
  {
   "cell_type": "code",
   "execution_count": 17,
   "metadata": {},
   "outputs": [],
   "source": [
    "myFPtree,myHeadTab=createTree(initSet,3)"
   ]
  },
  {
   "cell_type": "code",
   "execution_count": 46,
   "metadata": {},
   "outputs": [
    {
     "data": {
      "text/plain": [
       "{'r': [3, <__main__.treeNode at 0x26325396548>],\n",
       " 'z': [5, <__main__.treeNode at 0x263253abf48>],\n",
       " 'x': [4, <__main__.treeNode at 0x26325396e88>],\n",
       " 'y': [3, <__main__.treeNode at 0x26325396988>],\n",
       " 't': [3, <__main__.treeNode at 0x26325396948>],\n",
       " 's': [3, <__main__.treeNode at 0x26325396308>]}"
      ]
     },
     "execution_count": 46,
     "metadata": {},
     "output_type": "execute_result"
    }
   ],
   "source": [
    "myHeadTab"
   ]
  },
  {
   "cell_type": "code",
   "execution_count": 52,
   "metadata": {},
   "outputs": [
    {
     "name": "stdout",
     "output_type": "stream",
     "text": [
      "   Null Set   1\n",
      "     z   5\n",
      "       r   1\n",
      "       x   3\n",
      "         y   2\n",
      "           t   2\n",
      "             s   2\n",
      "         r   1\n",
      "           y   1\n",
      "             t   1\n",
      "     x   1\n",
      "       r   1\n",
      "         s   1\n"
     ]
    }
   ],
   "source": [
    "myFPtree.disp()"
   ]
  },
  {
   "cell_type": "code",
   "execution_count": 53,
   "metadata": {},
   "outputs": [],
   "source": [
    "def ascendTree(leafNode, prefixPath):\n",
    "    \"\"\"ascendTree(如果存在父节点，就记录当前节点的name值)\n",
    "\n",
    "    Args:\n",
    "        leafNode   查询的节点对于的nodeTree\n",
    "        prefixPath 要查询的节点值\n",
    "    \"\"\"\n",
    "    if leafNode.parent is not None:\n",
    "        prefixPath.append(leafNode.name)\n",
    "        ascendTree(leafNode.parent, prefixPath)\n",
    "\n",
    "\n",
    "def findPrefixPath(basePat, treeNode):\n",
    "    \"\"\"findPrefixPath 基础数据集\n",
    "\n",
    "    Args:\n",
    "        basePat  要查询的节点值\n",
    "        treeNode 查询的节点所在的当前nodeTree\n",
    "    Returns:\n",
    "        condPats 对非basePat的倒叙值作为key,赋值为count数\n",
    "    \"\"\"\n",
    "    condPats = {}\n",
    "    # 对 treeNode的link进行循环\n",
    "    while treeNode is not None:\n",
    "        prefixPath = []\n",
    "        # 寻找改节点的父节点，相当于找到了该节点的频繁项集\n",
    "        ascendTree(treeNode, prefixPath)\n",
    "        # 排除自身这个元素，判断是否存在父元素（所以要>1, 说明存在父元素）\n",
    "        if len(prefixPath) > 1:\n",
    "            # 对非basePat的倒叙值作为key,赋值为count数\n",
    "            # prefixPath[1:] 变frozenset后，字母就变无序了\n",
    "            # condPats[frozenset(prefixPath)] = treeNode.count\n",
    "            condPats[frozenset(prefixPath[1:])] = treeNode.count\n",
    "        # 递归，寻找改节点的下一个 相同值的链接节点\n",
    "        treeNode = treeNode.nodeLink\n",
    "        # print(treeNode)\n",
    "    return condPats"
   ]
  },
  {
   "cell_type": "code",
   "execution_count": 55,
   "metadata": {},
   "outputs": [
    {
     "data": {
      "text/plain": [
       "{frozenset({'z'}): 1, frozenset({'x'}): 1, frozenset({'x', 'z'}): 1}"
      ]
     },
     "execution_count": 55,
     "metadata": {},
     "output_type": "execute_result"
    }
   ],
   "source": [
    "findPrefixPath('r',myHeadTab.get('r')[1])"
   ]
  },
  {
   "cell_type": "code",
   "execution_count": 56,
   "metadata": {},
   "outputs": [],
   "source": [
    "def mineTree(inTree, headerTable, minSup, preFix, freqItemList):\n",
    "    \"\"\"mineTree(创建条件FP树)\n",
    "\n",
    "    Args:\n",
    "        inTree       myFPtree\n",
    "        headerTable  满足minSup {所有的元素+(value, treeNode)}\n",
    "        minSup       最小支持项集\n",
    "        preFix       preFix为newFreqSet上一次的存储记录，一旦没有myHead，就不会更新\n",
    "        freqItemList 用来存储频繁子项的列表\n",
    "    \"\"\"\n",
    "    # 通过value进行从小到大的排序， 得到频繁项集的key\n",
    "    # 最小支持项集的key的list集合\n",
    "    bigL = [v[0] for v in sorted(headerTable.items(), key=lambda p: p[1][0])]\n",
    "    # 循环遍历 最频繁项集的key，从小到大的递归寻找对应的频繁项集\n",
    "    for basePat in bigL:\n",
    "        # preFix为newFreqSet上一次的存储记录，一旦没有myHead，就不会更新\n",
    "        newFreqSet = preFix.copy()\n",
    "        newFreqSet.add(basePat)\n",
    "        print('newFreqSet=', newFreqSet, preFix)\n",
    "\n",
    "        freqItemList.append(newFreqSet)\n",
    "        print('freqItemList=', freqItemList)\n",
    "        condPattBases = findPrefixPath(basePat, headerTable[basePat][1])\n",
    "        print('condPattBases=', basePat, condPattBases)\n",
    "\n",
    "        # 构建FP-tree\n",
    "        myCondTree, myHead = createTree(condPattBases, minSup)\n",
    "        # 挖掘条件 FP-tree, 如果myHead不为空，表示满足minSup {所有的元素+(value, treeNode)}\n",
    "        if myHead is not None:\n",
    "            myCondTree.disp(1)\n",
    "            print('\\n\\n\\n')\n",
    "            # 递归 myHead 找出频繁项集\n",
    "            mineTree(myCondTree, myHead, minSup, newFreqSet, freqItemList)"
   ]
  },
  {
   "cell_type": "code",
   "execution_count": 59,
   "metadata": {},
   "outputs": [
    {
     "name": "stdout",
     "output_type": "stream",
     "text": [
      "----- [('r', [3, <__main__.treeNode object at 0x0000026325396548>]), ('y', [3, <__main__.treeNode object at 0x0000026325396988>]), ('t', [3, <__main__.treeNode object at 0x0000026325396948>]), ('s', [3, <__main__.treeNode object at 0x0000026325396308>]), ('x', [4, <__main__.treeNode object at 0x0000026325396E88>]), ('z', [5, <__main__.treeNode object at 0x00000263253ABF48>])]\n",
      "bigL= ['r', 'y', 't', 's', 'x', 'z']\n",
      "newFreqSet= {'r'} set()\n",
      "freqItemList= [{'r'}]\n",
      "condPattBases= r {frozenset({'z'}): 1, frozenset({'x'}): 1, frozenset({'x', 'z'}): 1}\n",
      "myHead= None\n",
      "\n",
      "\n",
      "\n",
      "\n",
      "newFreqSet= {'y'} set()\n",
      "freqItemList= [{'r'}, {'y'}]\n",
      "condPattBases= y {frozenset({'x', 'z'}): 2, frozenset({'x', 'r', 'z'}): 1}\n",
      "myHead= {'x': [3, <__main__.treeNode object at 0x0000026325398BC8>], 'z': [3, <__main__.treeNode object at 0x000002632540B708>]}\n",
      "   Null Set   1\n",
      "     x   3\n",
      "       z   3\n",
      "\n",
      "\n",
      "\n",
      "\n",
      "----- [('x', [3, <__main__.treeNode object at 0x0000026325398BC8>]), ('z', [3, <__main__.treeNode object at 0x000002632540B708>])]\n",
      "bigL= ['x', 'z']\n",
      "newFreqSet= {'x', 'y'} {'y'}\n",
      "freqItemList= [{'r'}, {'y'}, {'x', 'y'}]\n",
      "condPattBases= x {}\n",
      "myHead= None\n",
      "\n",
      "\n",
      "\n",
      "\n",
      "newFreqSet= {'y', 'z'} {'y'}\n",
      "freqItemList= [{'r'}, {'y'}, {'x', 'y'}, {'y', 'z'}]\n",
      "condPattBases= z {frozenset({'x'}): 3}\n",
      "myHead= {'x': [3, <__main__.treeNode object at 0x00000263254217C8>]}\n",
      "   Null Set   1\n",
      "     x   3\n",
      "\n",
      "\n",
      "\n",
      "\n",
      "----- [('x', [3, <__main__.treeNode object at 0x00000263254217C8>])]\n",
      "bigL= ['x']\n",
      "newFreqSet= {'x', 'y', 'z'} {'y', 'z'}\n",
      "freqItemList= [{'r'}, {'y'}, {'x', 'y'}, {'y', 'z'}, {'x', 'y', 'z'}]\n",
      "condPattBases= x {}\n",
      "myHead= None\n",
      "\n",
      "\n",
      "\n",
      "\n",
      "\n",
      "\n",
      "\n",
      "\n",
      "\n",
      "\n",
      "\n",
      "\n",
      "newFreqSet= {'t'} set()\n",
      "freqItemList= [{'r'}, {'y'}, {'x', 'y'}, {'y', 'z'}, {'x', 'y', 'z'}, {'t'}]\n",
      "condPattBases= t {frozenset({'x', 'y', 'z'}): 2, frozenset({'x', 'y', 'r', 'z'}): 1}\n",
      "myHead= {'x': [3, <__main__.treeNode object at 0x0000026327377588>], 'y': [3, <__main__.treeNode object at 0x0000026327377288>], 'z': [3, <__main__.treeNode object at 0x0000026327377388>]}\n",
      "   Null Set   1\n",
      "     x   3\n",
      "       y   3\n",
      "         z   3\n",
      "\n",
      "\n",
      "\n",
      "\n",
      "----- [('x', [3, <__main__.treeNode object at 0x0000026327377588>]), ('y', [3, <__main__.treeNode object at 0x0000026327377288>]), ('z', [3, <__main__.treeNode object at 0x0000026327377388>])]\n",
      "bigL= ['x', 'y', 'z']\n",
      "newFreqSet= {'x', 't'} {'t'}\n",
      "freqItemList= [{'r'}, {'y'}, {'x', 'y'}, {'y', 'z'}, {'x', 'y', 'z'}, {'t'}, {'x', 't'}]\n",
      "condPattBases= x {}\n",
      "myHead= None\n",
      "\n",
      "\n",
      "\n",
      "\n",
      "newFreqSet= {'y', 't'} {'t'}\n",
      "freqItemList= [{'r'}, {'y'}, {'x', 'y'}, {'y', 'z'}, {'x', 'y', 'z'}, {'t'}, {'x', 't'}, {'y', 't'}]\n",
      "condPattBases= y {frozenset({'x'}): 3}\n",
      "myHead= {'x': [3, <__main__.treeNode object at 0x00000263273F7E88>]}\n",
      "   Null Set   1\n",
      "     x   3\n",
      "\n",
      "\n",
      "\n",
      "\n",
      "----- [('x', [3, <__main__.treeNode object at 0x00000263273F7E88>])]\n",
      "bigL= ['x']\n",
      "newFreqSet= {'x', 'y', 't'} {'y', 't'}\n",
      "freqItemList= [{'r'}, {'y'}, {'x', 'y'}, {'y', 'z'}, {'x', 'y', 'z'}, {'t'}, {'x', 't'}, {'y', 't'}, {'x', 'y', 't'}]\n",
      "condPattBases= x {}\n",
      "myHead= None\n",
      "\n",
      "\n",
      "\n",
      "\n",
      "\n",
      "\n",
      "\n",
      "\n",
      "newFreqSet= {'z', 't'} {'t'}\n",
      "freqItemList= [{'r'}, {'y'}, {'x', 'y'}, {'y', 'z'}, {'x', 'y', 'z'}, {'t'}, {'x', 't'}, {'y', 't'}, {'x', 'y', 't'}, {'z', 't'}]\n",
      "condPattBases= z {frozenset({'x', 'y'}): 3}\n",
      "myHead= {'x': [3, <__main__.treeNode object at 0x00000263273F7B08>], 'y': [3, <__main__.treeNode object at 0x0000026325388D48>]}\n",
      "   Null Set   1\n",
      "     x   3\n",
      "       y   3\n",
      "\n",
      "\n",
      "\n",
      "\n",
      "----- [('x', [3, <__main__.treeNode object at 0x00000263273F7B08>]), ('y', [3, <__main__.treeNode object at 0x0000026325388D48>])]\n",
      "bigL= ['x', 'y']\n",
      "newFreqSet= {'x', 'z', 't'} {'z', 't'}\n",
      "freqItemList= [{'r'}, {'y'}, {'x', 'y'}, {'y', 'z'}, {'x', 'y', 'z'}, {'t'}, {'x', 't'}, {'y', 't'}, {'x', 'y', 't'}, {'z', 't'}, {'x', 'z', 't'}]\n",
      "condPattBases= x {}\n",
      "myHead= None\n",
      "\n",
      "\n",
      "\n",
      "\n",
      "newFreqSet= {'y', 'z', 't'} {'z', 't'}\n",
      "freqItemList= [{'r'}, {'y'}, {'x', 'y'}, {'y', 'z'}, {'x', 'y', 'z'}, {'t'}, {'x', 't'}, {'y', 't'}, {'x', 'y', 't'}, {'z', 't'}, {'x', 'z', 't'}, {'y', 'z', 't'}]\n",
      "condPattBases= y {frozenset({'x'}): 3}\n",
      "myHead= {'x': [3, <__main__.treeNode object at 0x00000263253ABB48>]}\n",
      "   Null Set   1\n",
      "     x   3\n",
      "\n",
      "\n",
      "\n",
      "\n",
      "----- [('x', [3, <__main__.treeNode object at 0x00000263253ABB48>])]\n",
      "bigL= ['x']\n",
      "newFreqSet= {'x', 'y', 'z', 't'} {'y', 'z', 't'}\n",
      "freqItemList= [{'r'}, {'y'}, {'x', 'y'}, {'y', 'z'}, {'x', 'y', 'z'}, {'t'}, {'x', 't'}, {'y', 't'}, {'x', 'y', 't'}, {'z', 't'}, {'x', 'z', 't'}, {'y', 'z', 't'}, {'x', 'y', 'z', 't'}]\n",
      "condPattBases= x {}\n",
      "myHead= None\n",
      "\n",
      "\n",
      "\n",
      "\n",
      "\n",
      "\n",
      "\n",
      "\n",
      "\n",
      "\n",
      "\n",
      "\n",
      "\n",
      "\n",
      "\n",
      "\n",
      "newFreqSet= {'s'} set()\n",
      "freqItemList= [{'r'}, {'y'}, {'x', 'y'}, {'y', 'z'}, {'x', 'y', 'z'}, {'t'}, {'x', 't'}, {'y', 't'}, {'x', 'y', 't'}, {'z', 't'}, {'x', 'z', 't'}, {'y', 'z', 't'}, {'x', 'y', 'z', 't'}, {'s'}]\n",
      "condPattBases= s {frozenset({'x', 'y', 'z', 't'}): 2, frozenset({'x', 'r'}): 1}\n",
      "myHead= {'x': [3, <__main__.treeNode object at 0x000002632540E1C8>]}\n",
      "   Null Set   1\n",
      "     x   3\n",
      "\n",
      "\n",
      "\n",
      "\n",
      "----- [('x', [3, <__main__.treeNode object at 0x000002632540E1C8>])]\n",
      "bigL= ['x']\n",
      "newFreqSet= {'x', 's'} {'s'}\n",
      "freqItemList= [{'r'}, {'y'}, {'x', 'y'}, {'y', 'z'}, {'x', 'y', 'z'}, {'t'}, {'x', 't'}, {'y', 't'}, {'x', 'y', 't'}, {'z', 't'}, {'x', 'z', 't'}, {'y', 'z', 't'}, {'x', 'y', 'z', 't'}, {'s'}, {'x', 's'}]\n",
      "condPattBases= x {}\n",
      "myHead= None\n",
      "\n",
      "\n",
      "\n",
      "\n",
      "\n",
      "\n",
      "\n",
      "\n",
      "newFreqSet= {'x'} set()\n",
      "freqItemList= [{'r'}, {'y'}, {'x', 'y'}, {'y', 'z'}, {'x', 'y', 'z'}, {'t'}, {'x', 't'}, {'y', 't'}, {'x', 'y', 't'}, {'z', 't'}, {'x', 'z', 't'}, {'y', 'z', 't'}, {'x', 'y', 'z', 't'}, {'s'}, {'x', 's'}, {'x'}]\n",
      "condPattBases= x {frozenset({'z'}): 3}\n",
      "myHead= {'z': [3, <__main__.treeNode object at 0x00000263254D4CC8>]}\n",
      "   Null Set   1\n",
      "     z   3\n",
      "\n",
      "\n",
      "\n",
      "\n",
      "----- [('z', [3, <__main__.treeNode object at 0x00000263254D4CC8>])]\n",
      "bigL= ['z']\n",
      "newFreqSet= {'x', 'z'} {'x'}\n",
      "freqItemList= [{'r'}, {'y'}, {'x', 'y'}, {'y', 'z'}, {'x', 'y', 'z'}, {'t'}, {'x', 't'}, {'y', 't'}, {'x', 'y', 't'}, {'z', 't'}, {'x', 'z', 't'}, {'y', 'z', 't'}, {'x', 'y', 'z', 't'}, {'s'}, {'x', 's'}, {'x'}, {'x', 'z'}]\n",
      "condPattBases= z {}\n",
      "myHead= None\n",
      "\n",
      "\n",
      "\n",
      "\n",
      "\n",
      "\n",
      "\n",
      "\n",
      "newFreqSet= {'z'} set()\n",
      "freqItemList= [{'r'}, {'y'}, {'x', 'y'}, {'y', 'z'}, {'x', 'y', 'z'}, {'t'}, {'x', 't'}, {'y', 't'}, {'x', 'y', 't'}, {'z', 't'}, {'x', 'z', 't'}, {'y', 'z', 't'}, {'x', 'y', 'z', 't'}, {'s'}, {'x', 's'}, {'x'}, {'x', 'z'}, {'z'}]\n",
      "condPattBases= z {}\n",
      "myHead= None\n",
      "\n",
      "\n",
      "\n",
      "\n"
     ]
    }
   ],
   "source": [
    "mineTree(myFPtree, myHeadTab, 3, set([]), [])"
   ]
  },
  {
   "cell_type": "code",
   "execution_count": 60,
   "metadata": {},
   "outputs": [],
   "source": [
    "parsedDat = [line.split() for line in open('data/kosarak.dat').readlines()]"
   ]
  },
  {
   "cell_type": "code",
   "execution_count": 61,
   "metadata": {},
   "outputs": [],
   "source": [
    "initSet=createInitSet(parsedDat)"
   ]
  },
  {
   "cell_type": "code",
   "execution_count": 63,
   "metadata": {},
   "outputs": [],
   "source": [
    "myFPtree,myHeadTab=createTree(initSet,100000)"
   ]
  },
  {
   "cell_type": "code",
   "execution_count": 65,
   "metadata": {},
   "outputs": [
    {
     "data": {
      "text/plain": [
       "{'3': [450031, <__main__.treeNode at 0x263273ac588>],\n",
       " '1': [197522, <__main__.treeNode at 0x263273faec8>],\n",
       " '6': [601374, <__main__.treeNode at 0x263273fa088>],\n",
       " '11': [364065, <__main__.treeNode at 0x263273fae08>]}"
      ]
     },
     "execution_count": 65,
     "metadata": {},
     "output_type": "execute_result"
    }
   ],
   "source": [
    "myHeadTab"
   ]
  },
  {
   "cell_type": "code",
   "execution_count": 71,
   "metadata": {},
   "outputs": [],
   "source": [
    "mlist=[]"
   ]
  },
  {
   "cell_type": "code",
   "execution_count": 72,
   "metadata": {},
   "outputs": [
    {
     "name": "stdout",
     "output_type": "stream",
     "text": [
      "----- [('1', [197522, <__main__.treeNode object at 0x00000263273FAEC8>]), ('11', [364065, <__main__.treeNode object at 0x00000263273FAE08>]), ('3', [450031, <__main__.treeNode object at 0x00000263273AC588>]), ('6', [601374, <__main__.treeNode object at 0x00000263273FA088>])]\n",
      "bigL= ['1', '11', '3', '6']\n",
      "newFreqSet= {'1'} set()\n",
      "freqItemList= [{'1'}]\n",
      "condPattBases= 1 {frozenset({'3'}): 24333, frozenset({'3', '11', '6'}): 37743, frozenset({'6'}): 25962, frozenset({'11', '6'}): 48349, frozenset({'3', '6'}): 20059, frozenset({'11'}): 3265, frozenset({'3', '11'}): 2525}\n",
      "myHead= {'6': [132113, <__main__.treeNode object at 0x00000263273D75C8>]}\n",
      "   Null Set   1\n",
      "     6   132113\n",
      "\n",
      "\n",
      "\n",
      "\n",
      "----- [('6', [132113, <__main__.treeNode object at 0x00000263273D75C8>])]\n",
      "bigL= ['6']\n",
      "newFreqSet= {'1', '6'} {'1'}\n",
      "freqItemList= [{'1'}, {'1', '6'}]\n",
      "condPattBases= 6 {}\n",
      "myHead= None\n",
      "\n",
      "\n",
      "\n",
      "\n",
      "\n",
      "\n",
      "\n",
      "\n",
      "newFreqSet= {'11'} set()\n",
      "freqItemList= [{'1'}, {'1', '6'}, {'11'}]\n",
      "condPattBases= 11 {frozenset({'6'}): 180331, frozenset({'3', '6'}): 143682, frozenset({'3'}): 17604}\n",
      "myHead= {'6': [324013, <__main__.treeNode object at 0x000002632540D788>], '3': [161286, <__main__.treeNode object at 0x000002632702B108>]}\n",
      "   Null Set   1\n",
      "     6   324013\n",
      "       3   143682\n",
      "     3   17604\n",
      "\n",
      "\n",
      "\n",
      "\n",
      "----- [('3', [161286, <__main__.treeNode object at 0x000002632702B108>]), ('6', [324013, <__main__.treeNode object at 0x000002632540D788>])]\n",
      "bigL= ['3', '6']\n",
      "newFreqSet= {'3', '11'} {'11'}\n",
      "freqItemList= [{'1'}, {'1', '6'}, {'11'}, {'3', '11'}]\n",
      "condPattBases= 3 {frozenset({'6'}): 143682}\n",
      "myHead= {'6': [143682, <__main__.treeNode object at 0x000002632542E4C8>]}\n",
      "   Null Set   1\n",
      "     6   143682\n",
      "\n",
      "\n",
      "\n",
      "\n",
      "----- [('6', [143682, <__main__.treeNode object at 0x000002632542E4C8>])]\n",
      "bigL= ['6']\n",
      "newFreqSet= {'3', '11', '6'} {'3', '11'}\n",
      "freqItemList= [{'1'}, {'1', '6'}, {'11'}, {'3', '11'}, {'3', '11', '6'}]\n",
      "condPattBases= 6 {}\n",
      "myHead= None\n",
      "\n",
      "\n",
      "\n",
      "\n",
      "\n",
      "\n",
      "\n",
      "\n",
      "newFreqSet= {'11', '6'} {'11'}\n",
      "freqItemList= [{'1'}, {'1', '6'}, {'11'}, {'3', '11'}, {'3', '11', '6'}, {'11', '6'}]\n",
      "condPattBases= 6 {}\n",
      "myHead= None\n",
      "\n",
      "\n",
      "\n",
      "\n",
      "\n",
      "\n",
      "\n",
      "\n",
      "newFreqSet= {'3'} set()\n",
      "freqItemList= [{'1'}, {'1', '6'}, {'11'}, {'3', '11'}, {'3', '11', '6'}, {'11', '6'}, {'3'}]\n",
      "condPattBases= 3 {frozenset({'6'}): 265180}\n",
      "myHead= {'6': [265180, <__main__.treeNode object at 0x0000026327273F48>]}\n",
      "   Null Set   1\n",
      "     6   265180\n",
      "\n",
      "\n",
      "\n",
      "\n",
      "----- [('6', [265180, <__main__.treeNode object at 0x0000026327273F48>])]\n",
      "bigL= ['6']\n",
      "newFreqSet= {'3', '6'} {'3'}\n",
      "freqItemList= [{'1'}, {'1', '6'}, {'11'}, {'3', '11'}, {'3', '11', '6'}, {'11', '6'}, {'3'}, {'3', '6'}]\n",
      "condPattBases= 6 {}\n",
      "myHead= None\n",
      "\n",
      "\n",
      "\n",
      "\n",
      "\n",
      "\n",
      "\n",
      "\n",
      "newFreqSet= {'6'} set()\n",
      "freqItemList= [{'1'}, {'1', '6'}, {'11'}, {'3', '11'}, {'3', '11', '6'}, {'11', '6'}, {'3'}, {'3', '6'}, {'6'}]\n",
      "condPattBases= 6 {}\n",
      "myHead= None\n",
      "\n",
      "\n",
      "\n",
      "\n"
     ]
    }
   ],
   "source": [
    "mineTree(myFPtree, myHeadTab, 100000, set([]),mlist)"
   ]
  },
  {
   "cell_type": "code",
   "execution_count": 73,
   "metadata": {},
   "outputs": [
    {
     "data": {
      "text/plain": [
       "[{'1'},\n",
       " {'1', '6'},\n",
       " {'11'},\n",
       " {'11', '3'},\n",
       " {'11', '3', '6'},\n",
       " {'11', '6'},\n",
       " {'3'},\n",
       " {'3', '6'},\n",
       " {'6'}]"
      ]
     },
     "execution_count": 73,
     "metadata": {},
     "output_type": "execute_result"
    }
   ],
   "source": [
    "mlist"
   ]
  },
  {
   "cell_type": "code",
   "execution_count": null,
   "metadata": {},
   "outputs": [],
   "source": []
  }
 ],
 "metadata": {
  "kernelspec": {
   "display_name": "Python 3",
   "language": "python",
   "name": "python3"
  },
  "language_info": {
   "codemirror_mode": {
    "name": "ipython",
    "version": 3
   },
   "file_extension": ".py",
   "mimetype": "text/x-python",
   "name": "python",
   "nbconvert_exporter": "python",
   "pygments_lexer": "ipython3",
   "version": "3.7.6"
  }
 },
 "nbformat": 4,
 "nbformat_minor": 4
}
